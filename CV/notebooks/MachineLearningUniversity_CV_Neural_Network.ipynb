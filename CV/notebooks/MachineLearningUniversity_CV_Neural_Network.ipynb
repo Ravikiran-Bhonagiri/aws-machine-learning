{
  "nbformat": 4,
  "nbformat_minor": 0,
  "metadata": {
    "colab": {
      "name": "MachineLearningUniversity_CV_Neural_Network.ipynb",
      "provenance": [],
      "collapsed_sections": []
    },
    "kernelspec": {
      "name": "python3",
      "display_name": "Python 3"
    }
  },
  "cells": [
    {
      "cell_type": "code",
      "metadata": {
        "id": "z08zmi5jNNr5",
        "colab_type": "code",
        "colab": {
          "base_uri": "https://localhost:8080/",
          "height": 241
        },
        "outputId": "8d9be1ba-2122-43f6-bd93-36cef030017b"
      },
      "source": [
        "! pip install mxnet"
      ],
      "execution_count": 7,
      "outputs": [
        {
          "output_type": "stream",
          "text": [
            "Collecting mxnet\n",
            "\u001b[?25l  Downloading https://files.pythonhosted.org/packages/29/bb/54cbabe428351c06d10903c658878d29ee7026efbe45133fd133598d6eb6/mxnet-1.7.0.post1-py2.py3-none-manylinux2014_x86_64.whl (55.0MB)\n",
            "\u001b[K     |████████████████████████████████| 55.0MB 76kB/s \n",
            "\u001b[?25hRequirement already satisfied: requests<3,>=2.20.0 in /usr/local/lib/python3.6/dist-packages (from mxnet) (2.23.0)\n",
            "Requirement already satisfied: numpy<2.0.0,>1.16.0 in /usr/local/lib/python3.6/dist-packages (from mxnet) (1.18.5)\n",
            "Requirement already satisfied: graphviz<0.9.0,>=0.8.1 in /usr/local/lib/python3.6/dist-packages (from mxnet) (0.8.4)\n",
            "Requirement already satisfied: urllib3!=1.25.0,!=1.25.1,<1.26,>=1.21.1 in /usr/local/lib/python3.6/dist-packages (from requests<3,>=2.20.0->mxnet) (1.24.3)\n",
            "Requirement already satisfied: idna<3,>=2.5 in /usr/local/lib/python3.6/dist-packages (from requests<3,>=2.20.0->mxnet) (2.10)\n",
            "Requirement already satisfied: certifi>=2017.4.17 in /usr/local/lib/python3.6/dist-packages (from requests<3,>=2.20.0->mxnet) (2020.6.20)\n",
            "Requirement already satisfied: chardet<4,>=3.0.2 in /usr/local/lib/python3.6/dist-packages (from requests<3,>=2.20.0->mxnet) (3.0.4)\n",
            "Installing collected packages: mxnet\n",
            "Successfully installed mxnet-1.7.0.post1\n"
          ],
          "name": "stdout"
        }
      ]
    },
    {
      "cell_type": "code",
      "metadata": {
        "id": "yAe9yuRqNhI9",
        "colab_type": "code",
        "colab": {
          "base_uri": "https://localhost:8080/",
          "height": 136
        },
        "outputId": "09d58336-270e-4cae-d50d-063dde514a14"
      },
      "source": [
        "from mxnet.gluon import nn\n",
        "\n",
        "net = nn.Sequential()\n",
        "\n",
        "net.add(nn.Dense(64,                    # Dense layer-1 with 64 units\n",
        "                 in_units=3,            # Input size of 3 is expected\n",
        "                 activation='tanh'),    # Tanh activation is applied\n",
        "        nn.Dropout(.4),                 # Apply random 40% drop-out to layer_1\n",
        "        \n",
        "        nn.Dense(64,                   # Dense layer-2 with 64 units  \n",
        "                 activation='tanh'),    # Tanh activation is applied\n",
        "                \n",
        "        nn.Dropout(.3),                 # Apply random 30% drop-out to layer_2\n",
        "        \n",
        "        nn.Dense(1))                    # Output layer with single unit\n",
        "\n",
        "print(net)"
      ],
      "execution_count": 8,
      "outputs": [
        {
          "output_type": "stream",
          "text": [
            "Sequential(\n",
            "  (0): Dense(3 -> 64, Activation(tanh))\n",
            "  (1): Dropout(p = 0.4, axes=())\n",
            "  (2): Dense(None -> 64, Activation(tanh))\n",
            "  (3): Dropout(p = 0.3, axes=())\n",
            "  (4): Dense(None -> 1, linear)\n",
            ")\n"
          ],
          "name": "stdout"
        }
      ]
    },
    {
      "cell_type": "code",
      "metadata": {
        "id": "i7veU-XDN1Fb",
        "colab_type": "code",
        "colab": {}
      },
      "source": [
        "from mxnet import init\n",
        "\n",
        "net.initialize(init=init.Xavier())"
      ],
      "execution_count": 9,
      "outputs": []
    },
    {
      "cell_type": "code",
      "metadata": {
        "id": "5MkuSm3iN5Qn",
        "colab_type": "code",
        "colab": {
          "base_uri": "https://localhost:8080/",
          "height": 102
        },
        "outputId": "b93911be-cd95-42d4-a5bb-5f921f902bda"
      },
      "source": [
        "print(net[0])\n",
        "print(net[1])\n",
        "print(net[2])\n",
        "print(net[3])\n",
        "print(net[4])"
      ],
      "execution_count": 10,
      "outputs": [
        {
          "output_type": "stream",
          "text": [
            "Dense(3 -> 64, Activation(tanh))\n",
            "Dropout(p = 0.4, axes=())\n",
            "Dense(None -> 64, Activation(tanh))\n",
            "Dropout(p = 0.3, axes=())\n",
            "Dense(None -> 1, linear)\n"
          ],
          "name": "stdout"
        }
      ]
    },
    {
      "cell_type": "code",
      "metadata": {
        "id": "6CAeamhNN-HS",
        "colab_type": "code",
        "colab": {}
      },
      "source": [
        "from mxnet.gluon.loss import SigmoidBinaryCrossEntropyLoss\n",
        "loss = SigmoidBinaryCrossEntropyLoss()"
      ],
      "execution_count": 11,
      "outputs": []
    },
    {
      "cell_type": "code",
      "metadata": {
        "id": "H4BMS9CnN_ic",
        "colab_type": "code",
        "colab": {}
      },
      "source": [
        "from mxnet.gluon.loss import SoftmaxCrossEntropyLoss\n",
        "loss = SoftmaxCrossEntropyLoss()"
      ],
      "execution_count": 12,
      "outputs": []
    },
    {
      "cell_type": "code",
      "metadata": {
        "id": "klO8UgwIOJLb",
        "colab_type": "code",
        "colab": {}
      },
      "source": [
        "from mxnet.gluon.loss import L2Loss\n",
        "loss = L2Loss()"
      ],
      "execution_count": 13,
      "outputs": []
    },
    {
      "cell_type": "code",
      "metadata": {
        "id": "dBX9ShBHOUGT",
        "colab_type": "code",
        "colab": {}
      },
      "source": [
        "from mxnet import gluon\n",
        "\n",
        "trainer = gluon.Trainer(net.collect_params(),\n",
        "                        'sgd', \n",
        "                        {'learning_rate': 0.001}\n",
        "                       )"
      ],
      "execution_count": 14,
      "outputs": []
    },
    {
      "cell_type": "code",
      "metadata": {
        "id": "2wGVZxwXOryD",
        "colab_type": "code",
        "colab": {}
      },
      "source": [
        "from sklearn.datasets import make_circles\n",
        "\n",
        "X, y = make_circles(n_samples=750, shuffle=True, random_state=42, noise=0.05, factor=0.3)"
      ],
      "execution_count": 15,
      "outputs": []
    },
    {
      "cell_type": "code",
      "metadata": {
        "id": "yc4tPgm4OtuH",
        "colab_type": "code",
        "colab": {
          "base_uri": "https://localhost:8080/",
          "height": 355
        },
        "outputId": "6f46f0ca-bf21-4fc4-9474-8a554d1b4043"
      },
      "source": [
        "%matplotlib inline\n",
        "import matplotlib.pyplot as plt\n",
        "import seaborn as sns\n",
        "\n",
        "def plot_dataset(X, y, title):\n",
        "    \n",
        "    # Activate Seaborn visualization\n",
        "    sns.set()\n",
        "    \n",
        "    # Plot both classes: Class1->Blue, Class2->Red\n",
        "    plt.scatter(X[y==1, 0], X[y==1, 1], c='blue', label=\"class 1\")\n",
        "    plt.scatter(X[y==0, 0], X[y==0, 1], c='red', label=\"class 2\")\n",
        "    plt.legend(loc='upper right')\n",
        "    plt.xlabel('x1')\n",
        "    plt.ylabel('x2')\n",
        "    plt.xlim(-2, 2)\n",
        "    plt.ylim(-2, 2)\n",
        "    plt.title(title)\n",
        "    plt.show()\n",
        "    \n",
        "plot_dataset(X, y, title=\"Dataset\")\n"
      ],
      "execution_count": 16,
      "outputs": [
        {
          "output_type": "stream",
          "text": [
            "/usr/local/lib/python3.6/dist-packages/statsmodels/tools/_testing.py:19: FutureWarning: pandas.util.testing is deprecated. Use the functions in the public API at pandas.testing instead.\n",
            "  import pandas.util.testing as tm\n"
          ],
          "name": "stderr"
        },
        {
          "output_type": "display_data",
          "data": {
            "image/png": "[encoded data removed]",
            "text/plain": [
              "<Figure size 432x288 with 1 Axes>"
            ]
          },
          "metadata": {
            "tags": []
          }
        }
      ]
    },
    {
      "cell_type": "code",
      "metadata": {
        "id": "DvCDWDcXOziz",
        "colab_type": "code",
        "colab": {}
      },
      "source": [
        "import time\n",
        "import mxnet as mx\n",
        "from mxnet import gluon, autograd\n",
        "import mxnet.ndarray as nd\n",
        "from mxnet.gluon.loss import SigmoidBinaryCrossEntropyLoss"
      ],
      "execution_count": 17,
      "outputs": []
    },
    {
      "cell_type": "code",
      "metadata": {
        "id": "c1suhtSdO3qA",
        "colab_type": "code",
        "colab": {}
      },
      "source": [
        "from mxnet import init\n",
        "from mxnet.gluon import nn\n",
        "\n",
        "net = nn.Sequential()\n",
        "net.add(nn.Dense(10, in_units=2, activation='relu'),\n",
        "        nn.Dense(10, activation='relu'),\n",
        "        nn.Dense(1, activation='sigmoid'))\n",
        "net.initialize(init=init.Xavier())"
      ],
      "execution_count": 18,
      "outputs": []
    },
    {
      "cell_type": "code",
      "metadata": {
        "id": "4WH7cppjQlwB",
        "colab_type": "code",
        "colab": {}
      },
      "source": [
        "# Split the dataset into two parts: 80%-20% split\n",
        "X_train, X_val = X[0:int(len(X)*0.8), :], X[int(len(X)*0.8):, :]\n",
        "y_train, y_val = y[:int(len(X)*0.8)], y[int(len(X)*0.8):]\n",
        "\n",
        "# Convert to ND arrays for gluon\n",
        "X_train = nd.array(X_train)\n",
        "X_val = nd.array(X_val)\n",
        "y_train = nd.array(y_train)\n",
        "y_val = nd.array(y_val)\n",
        "\n",
        "# Use Gluon Data loaders to load the data in batches\n",
        "batch_size = 4           # How many samples to use for each weight update \n",
        "train_dataset = gluon.data.ArrayDataset(X_train, y_train)\n",
        "train_loader = gluon.data.DataLoader(train_dataset, batch_size=batch_size)"
      ],
      "execution_count": 19,
      "outputs": []
    },
    {
      "cell_type": "code",
      "metadata": {
        "id": "T0UeeHO3QwLr",
        "colab_type": "code",
        "colab": {}
      },
      "source": [
        "epochs = 50              # Total number of iterations\n",
        "learning_rate = 0.01     # Learning rate\n",
        "context = mx.cpu()       # Using CPU resource\n",
        "\n",
        "# Define the loss. As we used sigmoid in the last layer, use from_sigmoid=True\n",
        "binary_cross_loss = SigmoidBinaryCrossEntropyLoss(from_sigmoid=True)\n",
        "\n",
        "# Define the trainer, SGD with learning rate\n",
        "trainer = gluon.Trainer(net.collect_params(),\n",
        "                        'sgd',\n",
        "                        {'learning_rate': learning_rate}\n",
        "                       )"
      ],
      "execution_count": 20,
      "outputs": []
    },
    {
      "cell_type": "code",
      "metadata": {
        "id": "U95oxjE0Q0vS",
        "colab_type": "code",
        "colab": {
          "base_uri": "https://localhost:8080/",
          "height": 119
        },
        "outputId": "04392e00-eb27-48c9-bdd1-cff1adc9bb5d"
      },
      "source": [
        "import time\n",
        "\n",
        "train_losses = []\n",
        "val_losses = []\n",
        "for epoch in range(epochs):\n",
        "    start = time.time()\n",
        "    training_loss = 0\n",
        "    # Build a training loop, to train the network\n",
        "    for idx, (data, target) in enumerate(train_loader):\n",
        "\n",
        "        data = data.as_in_context(context)\n",
        "        target = target.as_in_context(context)\n",
        "        \n",
        "        with autograd.record():\n",
        "            output = net(data)\n",
        "            L = binary_cross_loss(output, target)\n",
        "            training_loss += nd.sum(L).asscalar()\n",
        "            L.backward()\n",
        "        trainer.step(data.shape[0])\n",
        "    \n",
        "    # Get validation predictions\n",
        "    val_predictions = net(X_val.as_in_context(context))\n",
        "    # Calculate the validation loss\n",
        "    val_loss = nd.sum(binary_cross_loss(val_predictions, y_val)).asscalar()\n",
        "    \n",
        "    # Take the average losses\n",
        "    training_loss = training_loss / len(y_train)\n",
        "    val_loss = val_loss / len(y_val)\n",
        "    \n",
        "    train_losses.append(training_loss)\n",
        "    val_losses.append(val_loss)\n",
        "    \n",
        "    end = time.time()\n",
        "    # Print the losses every 10 epochs\n",
        "    if (epoch == 0) or ((epoch+1)%10 == 0):\n",
        "        print(\"Epoch %s. Train_loss %f Validation_loss %f Seconds %f\" % \\\n",
        "              (epoch, training_loss, val_loss, end-start))\n"
      ],
      "execution_count": 21,
      "outputs": [
        {
          "output_type": "stream",
          "text": [
            "Epoch 0. Train_loss 0.717287 Validation_loss 0.707328 Seconds 0.637434\n",
            "Epoch 9. Train_loss 0.536602 Validation_loss 0.528374 Seconds 0.591531\n",
            "Epoch 19. Train_loss 0.183823 Validation_loss 0.171154 Seconds 0.611217\n",
            "Epoch 29. Train_loss 0.030300 Validation_loss 0.029884 Seconds 0.594926\n",
            "Epoch 39. Train_loss 0.012365 Validation_loss 0.013041 Seconds 0.588442\n",
            "Epoch 49. Train_loss 0.007204 Validation_loss 0.007897 Seconds 0.583187\n"
          ],
          "name": "stdout"
        }
      ]
    },
    {
      "cell_type": "code",
      "metadata": {
        "id": "l2c-2xdPREot",
        "colab_type": "code",
        "colab": {
          "base_uri": "https://localhost:8080/",
          "height": 301
        },
        "outputId": "92e595fa-bafe-43bd-ce45-abb455650f0b"
      },
      "source": [
        "%matplotlib inline\n",
        "import matplotlib.pyplot as plt\n",
        "import seaborn as sns\n",
        "\n",
        "plt.plot(train_losses, label=\"Training Loss\")\n",
        "plt.plot(val_losses, label=\"Validation Loss\")\n",
        "plt.title(\"Loss values\")\n",
        "plt.xlabel(\"Epoch\")\n",
        "plt.ylabel(\"Loss\")\n",
        "plt.legend()\n",
        "plt.show()"
      ],
      "execution_count": 22,
      "outputs": [
        {
          "output_type": "display_data",
          "data": {
            "image/png": "[encoded data removed]",
            "text/plain": [
              "<Figure size 432x288 with 1 Axes>"
            ]
          },
          "metadata": {
            "tags": [],
            "needs_background": "light"
          }
        }
      ]
    }
  ]
}