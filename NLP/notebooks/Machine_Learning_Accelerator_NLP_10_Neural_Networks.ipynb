{
 "cells": [
  {
   "cell_type": "markdown",
   "metadata": {},
   "source": [
    "### Neural Networks with Gluon\n",
    "\n",
    "In this notebook, we will build, train and validate a Neural Network using Gluon/MXNet.\n",
    "\n",
    "<ul>\n",
    "<li>Implementing a neural network with Gluon</li>\n",
    "<li>Loss Functions</li>\n",
    "<li>Training</li>\n",
    "<li>Example - Binary Classification</li>\n",
    "<li>Natural Language Processing Context</li>\n",
    "</ul>"
   ]
  },
  {
   "cell_type": "code",
   "execution_count": 2,
   "metadata": {},
   "outputs": [
    {
     "name": "stdout",
     "output_type": "stream",
     "text": [
      "Sequential(\n",
      "  (0): Dense(3 -> 64, Activation(tanh))\n",
      "  (1): Dropout(p = 0.4, axes=())\n",
      "  (2): Dense(None -> 64, Activation(tanh))\n",
      "  (3): Dropout(p = 0.3, axes=())\n",
      "  (4): Dense(None -> 1, linear)\n",
      ")\n"
     ]
    }
   ],
   "source": [
    "from mxnet.gluon import nn\n",
    "\n",
    "net = nn.Sequential()\n",
    "\n",
    "net.add(nn.Dense(64,                    # Dense layer-1 with 64 units\n",
    "                 in_units=3,            # Input size of 3 is expected\n",
    "                 activation='tanh'),    # Tanh activation is applied\n",
    "        nn.Dropout(.4),                 # Apply random 40% drop-out to layer_1\n",
    "        \n",
    "        nn.Dense(64,                    # Dense layer-2 with 64 units  \n",
    "                 activation='tanh'      # Tanh activation is applied\n",
    "                ),\n",
    "        nn.Dropout(.3),                 # Apply random 30% drop-out to layer_2\n",
    "        \n",
    "        nn.Dense(1))                    # Output layer with single unit\n",
    "\n",
    "print(net)\n"
   ]
  },
  {
   "cell_type": "code",
   "execution_count": 3,
   "metadata": {},
   "outputs": [],
   "source": [
    "from mxnet import init\n",
    "\n",
    "net.initialize(init=init.Xavier())"
   ]
  },
  {
   "cell_type": "code",
   "execution_count": 4,
   "metadata": {},
   "outputs": [
    {
     "name": "stdout",
     "output_type": "stream",
     "text": [
      "Dense(3 -> 64, Activation(tanh))\n",
      "Dropout(p = 0.4, axes=())\n",
      "Dense(None -> 64, Activation(tanh))\n",
      "Dropout(p = 0.3, axes=())\n",
      "Dense(None -> 1, linear)\n"
     ]
    }
   ],
   "source": [
    "print(net[0])\n",
    "print(net[1])\n",
    "print(net[2])\n",
    "print(net[3])\n",
    "print(net[4])"
   ]
  },
  {
   "cell_type": "markdown",
   "metadata": {},
   "source": [
    "We will go over some popular loss functions here. We can select loss functions according to our problem. Full list of supported loss functions are available here\n",
    "\n",
    "Binary Cross-entropy Loss: A common loss function for binary classification. It is given by:$$\n",
    "\\mathrm{BinaryCrossEntropyLoss} = -\\sum_{examples}{(y\\log(p) + (1 - y)\\log(1 - p))}\n",
    "$$where p is the prediction (between 0 and 1, ie. 0.831) and y is the true class (either 1 or 0).\n",
    "\n",
    "In gluon, we can use binary cross entropy with SigmoidBinaryCrossEntropyLoss. It also applies sigmoid function on the predictions. Therefore, p is always between 0 and 1."
   ]
  },
  {
   "cell_type": "code",
   "execution_count": 5,
   "metadata": {},
   "outputs": [],
   "source": [
    "from mxnet.gluon.loss import SigmoidBinaryCrossEntropyLoss\n",
    "loss = SigmoidBinaryCrossEntropyLoss()"
   ]
  },
  {
   "cell_type": "markdown",
   "metadata": {},
   "source": [
    "Categorical Cross-entropy Loss: It is used for multi-class classification. We apply the softmax function on prediction probabilities and then extend the equation of binary cross-entropy. After the softmax function, summation of the predictions are equal to 1. Equation is below. y becomes 1 for true class and 0 for other classes.$$\n",
    "\\mathrm{CategoricalCrossEntropyLoss} = -\\sum_{examples}\\sum_{classes}{y_j\\log(p_j)}\n",
    "$$In gluon, SoftmaxCrossEntropyLoss implements the categorical cross-entropy loss with softmax function"
   ]
  },
  {
   "cell_type": "code",
   "execution_count": 6,
   "metadata": {},
   "outputs": [],
   "source": [
    "from mxnet.gluon.loss import SoftmaxCrossEntropyLoss\n",
    "loss = SoftmaxCrossEntropyLoss()"
   ]
  },
  {
   "cell_type": "markdown",
   "metadata": {},
   "source": [
    "L2 Loss: This is a loss function for regression problems. It measures the squared difference between target values (y) and predictions (p). Here, square makes sure the offsets with different signs don't cancel out each other.$$\n",
    "\\mathrm{L2 loss} = \\frac{1}{2} \\sum_{examples}(y - p)^2\n",
    "$$In gluon, we can use it with L2Loss:"
   ]
  },
  {
   "cell_type": "code",
   "execution_count": 7,
   "metadata": {},
   "outputs": [],
   "source": [
    "from mxnet.gluon.loss import L2Loss\n",
    "loss = L2Loss()"
   ]
  },
  {
   "cell_type": "markdown",
   "metadata": {},
   "source": [
    "L1 Loss: This is similar to L2 loss. It measures the abolsute difference between target values (y) and predictions (p).$$\n",
    "\\mathrm{L1 loss} = \\frac{1}{2} \\sum_{examples}|y - p|\n",
    "$$In gluon, we can use it with L1Loss:"
   ]
  },
  {
   "cell_type": "code",
   "execution_count": 8,
   "metadata": {},
   "outputs": [],
   "source": [
    "from mxnet.gluon.loss import L1Loss\n",
    "loss = L1Loss()"
   ]
  },
  {
   "cell_type": "markdown",
   "metadata": {},
   "source": [
    "mxnet.gluon.Trainer() module provides necessary training algorithms for neural networks. We can use the following for training a network using Stochastic Gradient Descent method and learning rate of 0.001."
   ]
  },
  {
   "cell_type": "code",
   "execution_count": 9,
   "metadata": {},
   "outputs": [],
   "source": [
    "from mxnet import gluon\n",
    "\n",
    "trainer = gluon.Trainer(net.collect_params(),\n",
    "                        'sgd', \n",
    "                        {'learning_rate': 0.001}\n",
    "                       )"
   ]
  },
  {
   "cell_type": "code",
   "execution_count": 10,
   "metadata": {},
   "outputs": [],
   "source": [
    "from sklearn.datasets import make_circles\n",
    "\n",
    "X, y = make_circles(n_samples=750, shuffle=True, random_state=42, noise=0.05, factor=0.3)"
   ]
  },
  {
   "cell_type": "code",
   "execution_count": 12,
   "metadata": {},
   "outputs": [
    {
     "data": {
      "image/png": "[encoded data removed]",
      "text/plain": [
       "<Figure size 432x288 with 1 Axes>"
      ]
     },
     "metadata": {},
     "output_type": "display_data"
    }
   ],
   "source": [
    "\n",
    "%matplotlib inline\n",
    "import matplotlib.pyplot as plt\n",
    "import seaborn as sns\n",
    "\n",
    "def plot_dataset(X, y, title):\n",
    "    \n",
    "    # Activate Seaborn visualization\n",
    "    sns.set()\n",
    "    \n",
    "    # Plot both classes: Class1->Blue, Class2->Red\n",
    "    plt.scatter(X[y==1, 0], X[y==1, 1], c='blue', label=\"class 1\")\n",
    "    plt.scatter(X[y==0, 0], X[y==0, 1], c='red', label=\"class 2\")\n",
    "    plt.legend(loc='upper right')\n",
    "    plt.xlabel('x1')\n",
    "    plt.ylabel('x2')\n",
    "    plt.xlim(-2, 2)\n",
    "    plt.ylim(-2, 2)\n",
    "    plt.title(title)\n",
    "    plt.show()\n",
    "    \n",
    "plot_dataset(X, y, title=\"Dataset\")"
   ]
  },
  {
   "cell_type": "code",
   "execution_count": 13,
   "metadata": {},
   "outputs": [],
   "source": [
    "import time\n",
    "import mxnet as mx\n",
    "from mxnet import gluon, autograd\n",
    "import mxnet.ndarray as nd\n",
    "from mxnet.gluon.loss import SigmoidBinaryCrossEntropyLoss"
   ]
  },
  {
   "cell_type": "markdown",
   "metadata": {},
   "source": [
    "We are creating the network below. We will have two hidden layers. Since the data seems easily seperable, we can have a small network (2 hidden layers) with 10 units at each layer."
   ]
  },
  {
   "cell_type": "code",
   "execution_count": 14,
   "metadata": {},
   "outputs": [],
   "source": [
    "from mxnet import init\n",
    "from mxnet.gluon import nn\n",
    "\n",
    "net = nn.Sequential()\n",
    "net.add(nn.Dense(10, in_units=2, activation='relu'),\n",
    "        nn.Dense(10, activation='relu'),\n",
    "        nn.Dense(1, activation='sigmoid'))\n",
    "net.initialize(init=init.Xavier())"
   ]
  },
  {
   "cell_type": "code",
   "execution_count": 15,
   "metadata": {},
   "outputs": [],
   "source": [
    "batch_size = 4           # How many samples to use for each weight update \n",
    "epochs = 50              # Total number of iterations\n",
    "learning_rate = 0.01     # Learning rate\n",
    "context = mx.cpu()       # Using CPU resource\n",
    "\n",
    "# Define the loss. As we used sigmoid in the last layer, use from_sigmoid=True\n",
    "binary_cross_loss = SigmoidBinaryCrossEntropyLoss(from_sigmoid=True)\n",
    "\n",
    "# Define the trainer, SGD with learning rate\n",
    "trainer = gluon.Trainer(net.collect_params(),\n",
    "                        'sgd',\n",
    "                        {'learning_rate': learning_rate}\n",
    "                       )"
   ]
  },
  {
   "cell_type": "code",
   "execution_count": 16,
   "metadata": {},
   "outputs": [],
   "source": [
    "# Splitting the dataset into two parts: 80%-20% split\n",
    "X_train, X_val = X[0:int(len(X)*0.8), :], X[int(len(X)*0.8):, :]\n",
    "y_train, y_val = y[:int(len(X)*0.8)], y[int(len(X)*0.8):]\n",
    "\n",
    "# Convert to ND arrays for gluon\n",
    "X_train = nd.array(X_train)\n",
    "X_val = nd.array(X_val)\n",
    "y_train = nd.array(y_train)\n",
    "y_val = nd.array(y_val)\n",
    "\n",
    "# Using Gluon Data loaders to load the data in batches\n",
    "train_dataset = gluon.data.ArrayDataset(X_train, y_train)\n",
    "train_loader = gluon.data.DataLoader(train_dataset, batch_size=batch_size)"
   ]
  },
  {
   "cell_type": "markdown",
   "metadata": {},
   "source": [
    "Let's start the training process. We will have training and validation sets and print our losses at each step."
   ]
  },
  {
   "cell_type": "code",
   "execution_count": 17,
   "metadata": {},
   "outputs": [
    {
     "name": "stdout",
     "output_type": "stream",
     "text": [
      "Epoch 0. Train_loss 0.717287 Validation_loss 0.707328 Seconds 0.644248\n",
      "Epoch 1. Train_loss 0.698457 Validation_loss 0.694622 Seconds 0.531529\n",
      "Epoch 2. Train_loss 0.683981 Validation_loss 0.681235 Seconds 0.517535\n",
      "Epoch 3. Train_loss 0.670197 Validation_loss 0.667785 Seconds 0.527540\n",
      "Epoch 4. Train_loss 0.653411 Validation_loss 0.648352 Seconds 0.494646\n",
      "Epoch 5. Train_loss 0.632768 Validation_loss 0.627517 Seconds 0.506598\n",
      "Epoch 6. Train_loss 0.611411 Validation_loss 0.606206 Seconds 0.497624\n",
      "Epoch 7. Train_loss 0.588618 Validation_loss 0.582911 Seconds 0.521910\n",
      "Epoch 8. Train_loss 0.564000 Validation_loss 0.557464 Seconds 0.485655\n",
      "Epoch 9. Train_loss 0.536602 Validation_loss 0.528374 Seconds 0.526542\n",
      "Epoch 10. Train_loss 0.505457 Validation_loss 0.494894 Seconds 0.486010\n",
      "Epoch 11. Train_loss 0.470475 Validation_loss 0.457515 Seconds 0.488648\n",
      "Epoch 12. Train_loss 0.432076 Validation_loss 0.416653 Seconds 0.481687\n",
      "Epoch 13. Train_loss 0.391388 Validation_loss 0.374049 Seconds 0.481667\n",
      "Epoch 14. Train_loss 0.349958 Validation_loss 0.330396 Seconds 0.645221\n",
      "Epoch 15. Train_loss 0.309373 Validation_loss 0.289564 Seconds 0.786844\n",
      "Epoch 16. Train_loss 0.272011 Validation_loss 0.252969 Seconds 0.598257\n",
      "Epoch 17. Train_loss 0.238545 Validation_loss 0.221302 Seconds 0.616802\n",
      "Epoch 18. Train_loss 0.209346 Validation_loss 0.194521 Seconds 0.504607\n",
      "Epoch 19. Train_loss 0.183823 Validation_loss 0.171154 Seconds 0.489187\n",
      "Epoch 20. Train_loss 0.157312 Validation_loss 0.139015 Seconds 0.470701\n",
      "Epoch 21. Train_loss 0.122792 Validation_loss 0.108570 Seconds 0.478186\n",
      "Epoch 22. Train_loss 0.097598 Validation_loss 0.087676 Seconds 0.481311\n",
      "Epoch 23. Train_loss 0.079057 Validation_loss 0.071903 Seconds 0.474197\n",
      "Epoch 24. Train_loss 0.065036 Validation_loss 0.060049 Seconds 0.476681\n",
      "Epoch 25. Train_loss 0.054316 Validation_loss 0.050988 Seconds 0.483665\n",
      "Epoch 26. Train_loss 0.046060 Validation_loss 0.043861 Seconds 0.482663\n",
      "Epoch 27. Train_loss 0.039583 Validation_loss 0.038183 Seconds 0.502609\n",
      "Epoch 28. Train_loss 0.034440 Validation_loss 0.033622 Seconds 0.499619\n",
      "Epoch 29. Train_loss 0.030300 Validation_loss 0.029884 Seconds 0.490643\n",
      "Epoch 30. Train_loss 0.026918 Validation_loss 0.026790 Seconds 0.508595\n",
      "Epoch 31. Train_loss 0.024119 Validation_loss 0.024206 Seconds 0.497641\n",
      "Epoch 32. Train_loss 0.021771 Validation_loss 0.022016 Seconds 0.478677\n",
      "Epoch 33. Train_loss 0.019779 Validation_loss 0.020145 Seconds 0.470699\n",
      "Epoch 34. Train_loss 0.018077 Validation_loss 0.018535 Seconds 0.486654\n",
      "Epoch 35. Train_loss 0.016609 Validation_loss 0.017139 Seconds 0.488646\n",
      "Epoch 36. Train_loss 0.015334 Validation_loss 0.015918 Seconds 0.494652\n",
      "Epoch 37. Train_loss 0.014218 Validation_loss 0.014844 Seconds 0.465715\n",
      "Epoch 38. Train_loss 0.013235 Validation_loss 0.013891 Seconds 0.473690\n",
      "Epoch 39. Train_loss 0.012365 Validation_loss 0.013041 Seconds 0.543484\n",
      "Epoch 40. Train_loss 0.011589 Validation_loss 0.012281 Seconds 0.502610\n",
      "Epoch 41. Train_loss 0.010894 Validation_loss 0.011598 Seconds 0.503608\n",
      "Epoch 42. Train_loss 0.010268 Validation_loss 0.010978 Seconds 0.550480\n",
      "Epoch 43. Train_loss 0.009702 Validation_loss 0.010416 Seconds 0.568425\n",
      "Epoch 44. Train_loss 0.009189 Validation_loss 0.009902 Seconds 0.510913\n",
      "Epoch 45. Train_loss 0.008720 Validation_loss 0.009432 Seconds 0.482666\n",
      "Epoch 46. Train_loss 0.008292 Validation_loss 0.009001 Seconds 0.508594\n",
      "Epoch 47. Train_loss 0.007899 Validation_loss 0.008603 Seconds 0.488196\n",
      "Epoch 48. Train_loss 0.007537 Validation_loss 0.008237 Seconds 0.480673\n",
      "Epoch 49. Train_loss 0.007204 Validation_loss 0.007897 Seconds 0.491642\n"
     ]
    }
   ],
   "source": [
    "import time\n",
    "\n",
    "train_losses = []\n",
    "val_losses = []\n",
    "for epoch in range(epochs):\n",
    "    start = time.time()\n",
    "    training_loss = 0\n",
    "    # Training loop, train the network\n",
    "    for idx, (data, target) in enumerate(train_loader):\n",
    "\n",
    "        data = data.as_in_context(context)\n",
    "        target = target.as_in_context(context)\n",
    "        \n",
    "        with autograd.record():\n",
    "            output = net(data)\n",
    "            L = binary_cross_loss(output, target)\n",
    "            training_loss += nd.sum(L).asscalar()\n",
    "            L.backward()\n",
    "        trainer.step(data.shape[0])\n",
    "    \n",
    "    # Get validation predictions\n",
    "    val_predictions = net(X_val.as_in_context(context))\n",
    "    # Calculate validation loss\n",
    "    val_loss = nd.sum(binary_cross_loss(val_predictions, y_val)).asscalar()\n",
    "    \n",
    "    # Let's take the average losses\n",
    "    training_loss = training_loss / len(y_train)\n",
    "    val_loss = val_loss / len(y_val)\n",
    "    \n",
    "    train_losses.append(training_loss)\n",
    "    val_losses.append(val_loss)\n",
    "    \n",
    "    end = time.time()\n",
    "    print(\"Epoch %s. Train_loss %f Validation_loss %f Seconds %f\" % \\\n",
    "          (epoch, training_loss, val_loss, end-start))\n"
   ]
  },
  {
   "cell_type": "code",
   "execution_count": 18,
   "metadata": {},
   "outputs": [
    {
     "data": {
      "image/png": "[encoded data removed]",
      "text/plain": [
       "<Figure size 432x288 with 1 Axes>"
      ]
     },
     "metadata": {
      "needs_background": "light"
     },
     "output_type": "display_data"
    }
   ],
   "source": [
    "%matplotlib inline\n",
    "import matplotlib.pyplot as plt\n",
    "import seaborn as sns\n",
    "\n",
    "plt.plot(train_losses, label=\"Training Loss\")\n",
    "plt.plot(val_losses, label=\"Validation Loss\")\n",
    "plt.title(\"Loss values\")\n",
    "plt.xlabel(\"Epoch\")\n",
    "plt.ylabel(\"Loss\")\n",
    "plt.legend()\n",
    "plt.show()"
   ]
  },
  {
   "cell_type": "code",
   "execution_count": null,
   "metadata": {},
   "outputs": [],
   "source": []
  }
 ],
 "metadata": {
  "kernelspec": {
   "display_name": "Python 3",
   "language": "python",
   "name": "python3"
  },
  "language_info": {
   "codemirror_mode": {
    "name": "ipython",
    "version": 3
   },
   "file_extension": ".py",
   "mimetype": "text/x-python",
   "name": "python",
   "nbconvert_exporter": "python",
   "pygments_lexer": "ipython3",
   "version": "3.6.8"
  }
 },
 "nbformat": 4,
 "nbformat_minor": 4
}
