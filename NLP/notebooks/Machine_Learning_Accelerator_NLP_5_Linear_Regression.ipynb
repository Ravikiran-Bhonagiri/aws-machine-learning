{
 "cells": [
  {
   "cell_type": "code",
   "execution_count": 1,
   "metadata": {},
   "outputs": [
    {
     "data": {
      "text/html": [
       "<div>\n",
       "<style scoped>\n",
       "    .dataframe tbody tr th:only-of-type {\n",
       "        vertical-align: middle;\n",
       "    }\n",
       "\n",
       "    .dataframe tbody tr th {\n",
       "        vertical-align: top;\n",
       "    }\n",
       "\n",
       "    .dataframe thead th {\n",
       "        text-align: right;\n",
       "    }\n",
       "</style>\n",
       "<table border=\"1\" class=\"dataframe\">\n",
       "  <thead>\n",
       "    <tr style=\"text-align: right;\">\n",
       "      <th></th>\n",
       "      <th>reviewText</th>\n",
       "      <th>summary</th>\n",
       "      <th>verified</th>\n",
       "      <th>time</th>\n",
       "      <th>rating</th>\n",
       "      <th>log_votes</th>\n",
       "    </tr>\n",
       "  </thead>\n",
       "  <tbody>\n",
       "    <tr>\n",
       "      <th>0</th>\n",
       "      <td>Stuck with this at work, slow and we still got...</td>\n",
       "      <td>Use SEP or Mcafee</td>\n",
       "      <td>False</td>\n",
       "      <td>1464739200</td>\n",
       "      <td>1.0</td>\n",
       "      <td>0.0</td>\n",
       "    </tr>\n",
       "    <tr>\n",
       "      <th>1</th>\n",
       "      <td>I use parallels every day with both my persona...</td>\n",
       "      <td>Use it daily</td>\n",
       "      <td>False</td>\n",
       "      <td>1332892800</td>\n",
       "      <td>5.0</td>\n",
       "      <td>0.0</td>\n",
       "    </tr>\n",
       "    <tr>\n",
       "      <th>2</th>\n",
       "      <td>Barbara Robbins\\n\\nI've used TurboTax to do ou...</td>\n",
       "      <td>Helpful Product</td>\n",
       "      <td>True</td>\n",
       "      <td>1398816000</td>\n",
       "      <td>4.0</td>\n",
       "      <td>0.0</td>\n",
       "    </tr>\n",
       "    <tr>\n",
       "      <th>3</th>\n",
       "      <td>I have been using this software security for y...</td>\n",
       "      <td>Five Stars</td>\n",
       "      <td>True</td>\n",
       "      <td>1430784000</td>\n",
       "      <td>5.0</td>\n",
       "      <td>0.0</td>\n",
       "    </tr>\n",
       "    <tr>\n",
       "      <th>4</th>\n",
       "      <td>If you want your computer hijacked and slowed ...</td>\n",
       "      <td>... hijacked and slowed to a crawl Windows 10 ...</td>\n",
       "      <td>False</td>\n",
       "      <td>1508025600</td>\n",
       "      <td>1.0</td>\n",
       "      <td>0.0</td>\n",
       "    </tr>\n",
       "  </tbody>\n",
       "</table>\n",
       "</div>"
      ],
      "text/plain": [
       "                                          reviewText  \\\n",
       "0  Stuck with this at work, slow and we still got...   \n",
       "1  I use parallels every day with both my persona...   \n",
       "2  Barbara Robbins\\n\\nI've used TurboTax to do ou...   \n",
       "3  I have been using this software security for y...   \n",
       "4  If you want your computer hijacked and slowed ...   \n",
       "\n",
       "                                             summary  verified        time  \\\n",
       "0                                  Use SEP or Mcafee     False  1464739200   \n",
       "1                                       Use it daily     False  1332892800   \n",
       "2                                    Helpful Product      True  1398816000   \n",
       "3                                         Five Stars      True  1430784000   \n",
       "4  ... hijacked and slowed to a crawl Windows 10 ...     False  1508025600   \n",
       "\n",
       "   rating  log_votes  \n",
       "0     1.0        0.0  \n",
       "1     5.0        0.0  \n",
       "2     4.0        0.0  \n",
       "3     5.0        0.0  \n",
       "4     1.0        0.0  "
      ]
     },
     "execution_count": 1,
     "metadata": {},
     "output_type": "execute_result"
    }
   ],
   "source": [
    "import pandas as pd\n",
    "\n",
    "df = pd.read_csv('../data/AMAZON-REVIEW-DATA-REGRESSION.csv', header=0)\n",
    "df.head()"
   ]
  },
  {
   "cell_type": "code",
   "execution_count": 2,
   "metadata": {},
   "outputs": [
    {
     "data": {
      "text/plain": [
       "0.0"
      ]
     },
     "execution_count": 2,
     "metadata": {},
     "output_type": "execute_result"
    }
   ],
   "source": [
    "df[\"log_votes\"].min()"
   ]
  },
  {
   "cell_type": "code",
   "execution_count": 3,
   "metadata": {},
   "outputs": [
    {
     "data": {
      "text/plain": [
       "7.799753318287247"
      ]
     },
     "execution_count": 3,
     "metadata": {},
     "output_type": "execute_result"
    }
   ],
   "source": [
    "df[\"log_votes\"].max()"
   ]
  },
  {
   "cell_type": "code",
   "execution_count": 4,
   "metadata": {},
   "outputs": [
    {
     "data": {
      "image/png": "[encoded data removed]",
      "text/plain": [
       "<Figure size 432x288 with 1 Axes>"
      ]
     },
     "metadata": {
      "needs_background": "light"
     },
     "output_type": "display_data"
    }
   ],
   "source": [
    "%matplotlib inline\n",
    "import matplotlib.pyplot as plt\n",
    "\n",
    "df[\"log_votes\"].plot.hist()\n",
    "plt.show()"
   ]
  },
  {
   "cell_type": "markdown",
   "metadata": {},
   "source": [
    "### Printing the sum of na for every column in data frame\n"
   ]
  },
  {
   "cell_type": "code",
   "execution_count": 5,
   "metadata": {},
   "outputs": [
    {
     "name": "stdout",
     "output_type": "stream",
     "text": [
      "reviewText    6\n",
      "summary       7\n",
      "verified      0\n",
      "time          0\n",
      "rating        0\n",
      "log_votes     0\n",
      "dtype: int64\n"
     ]
    }
   ],
   "source": [
    "print(df.isna().sum())"
   ]
  },
  {
   "cell_type": "code",
   "execution_count": 6,
   "metadata": {},
   "outputs": [
    {
     "name": "stderr",
     "output_type": "stream",
     "text": [
      "[nltk_data] Downloading package punkt to\n",
      "[nltk_data]     C:\\Users\\ravikiran.bhonagiri\\AppData\\Roaming\\nltk_data\n",
      "[nltk_data]     ...\n",
      "[nltk_data]   Package punkt is already up-to-date!\n",
      "[nltk_data] Downloading package stopwords to\n",
      "[nltk_data]     C:\\Users\\ravikiran.bhonagiri\\AppData\\Roaming\\nltk_data\n",
      "[nltk_data]     ...\n",
      "[nltk_data]   Package stopwords is already up-to-date!\n"
     ]
    },
    {
     "data": {
      "text/plain": [
       "True"
      ]
     },
     "execution_count": 6,
     "metadata": {},
     "output_type": "execute_result"
    }
   ],
   "source": [
    "# Install the library and functions\n",
    "import nltk\n",
    "\n",
    "nltk.download('punkt')\n",
    "nltk.download('stopwords')"
   ]
  },
  {
   "cell_type": "markdown",
   "metadata": {},
   "source": [
    "### Preprocessing the string data \n"
   ]
  },
  {
   "cell_type": "code",
   "execution_count": 7,
   "metadata": {},
   "outputs": [],
   "source": [
    "import nltk, re\n",
    "from nltk.corpus import stopwords\n",
    "from nltk.stem import SnowballStemmer\n",
    "from nltk.tokenize import word_tokenize\n",
    "\n",
    "# Let's get a list of stop words from the NLTK library\n",
    "stop = stopwords.words('english')\n",
    "\n",
    "# These words are important for our problem. We don't want to remove them.\n",
    "excluding = ['against', 'not', 'don', \"don't\",'ain', 'aren', \"aren't\", 'couldn', \"couldn't\",\n",
    "             'didn', \"didn't\", 'doesn', \"doesn't\", 'hadn', \"hadn't\", 'hasn', \"hasn't\", \n",
    "             'haven', \"haven't\", 'isn', \"isn't\", 'mightn', \"mightn't\", 'mustn', \"mustn't\",\n",
    "             'needn', \"needn't\",'shouldn', \"shouldn't\", 'wasn', \"wasn't\", 'weren', \n",
    "             \"weren't\", 'won', \"won't\", 'wouldn', \"wouldn't\"]\n",
    "\n",
    "# New stop word list\n",
    "stop_words = [word for word in stop if word not in excluding]\n",
    "\n",
    "snow = SnowballStemmer('english')\n",
    "\n",
    "def process_text(texts): \n",
    "    final_text_list=[]\n",
    "    for sent in texts:\n",
    "        \n",
    "        # Check if the sentence is a missing value\n",
    "        if isinstance(sent, str) == False:\n",
    "            sent = \"\"\n",
    "            \n",
    "        filtered_sentence=[]\n",
    "        \n",
    "        sent = sent.lower() # Lowercase \n",
    "        sent = sent.strip() # Remove leading/trailing whitespace\n",
    "        sent = re.sub('\\s+', ' ', sent) # Remove extra space and tabs\n",
    "        sent = re.compile('<.*?>').sub('', sent) # Remove HTML tags/markups:\n",
    "        \n",
    "        for w in word_tokenize(sent):\n",
    "            # We are applying some custom filtering here, feel free to try different things\n",
    "            # Check if it is not numeric and its length>2 and not in stop words\n",
    "            if(not w.isnumeric()) and (len(w)>2) and (w not in stop_words):  \n",
    "                # Stem and add to filtered list\n",
    "                filtered_sentence.append(snow.stem(w))\n",
    "        final_string = \" \".join(filtered_sentence) #final string of cleaned words\n",
    " \n",
    "        final_text_list.append(final_string)\n",
    "        \n",
    "    return final_text_list"
   ]
  },
  {
   "cell_type": "code",
   "execution_count": 8,
   "metadata": {},
   "outputs": [],
   "source": [
    "from sklearn.model_selection import train_test_split\n",
    "\n",
    "\n",
    "X_train, X_val, y_train, y_val = train_test_split(df[[\"reviewText\", \"summary\", \"time\", \"rating\"]],\n",
    "                                                  df[\"log_votes\"],\n",
    "                                                  test_size=0.10,\n",
    "                                                  shuffle=True,\n",
    "                                                  random_state=324\n",
    "                                                 )"
   ]
  },
  {
   "cell_type": "code",
   "execution_count": 9,
   "metadata": {},
   "outputs": [
    {
     "name": "stdout",
     "output_type": "stream",
     "text": [
      "Processing the reviewText fields\n",
      "Processing the summary fields\n"
     ]
    }
   ],
   "source": [
    "print(\"Processing the reviewText fields\")\n",
    "X_train[\"reviewText\"] = process_text(X_train[\"reviewText\"].tolist())\n",
    "X_val[\"reviewText\"] = process_text(X_val[\"reviewText\"].tolist())\n",
    "\n",
    "print(\"Processing the summary fields\")\n",
    "X_train[\"summary\"] = process_text(X_train[\"summary\"].tolist())\n",
    "X_val[\"summary\"] = process_text(X_val[\"summary\"].tolist())"
   ]
  },
  {
   "cell_type": "code",
   "execution_count": 10,
   "metadata": {},
   "outputs": [],
   "source": [
    "# Grab model features/inputs and target/output\n",
    "numerical_features = ['time',\n",
    "                      'rating']\n",
    "\n",
    "text_features = ['summary',\n",
    "                 'reviewText']\n",
    "\n",
    "model_features = numerical_features + text_features\n",
    "model_target = 'log_votes'"
   ]
  },
  {
   "cell_type": "markdown",
   "metadata": {},
   "source": [
    "### Building the data pipelines \n",
    "### Trying different Algorithms\n",
    "### a. Linear Regression\n",
    "### b. Ridge\n",
    "### c. Lasso \n",
    "### d. ElasticNet "
   ]
  },
  {
   "cell_type": "code",
   "execution_count": 11,
   "metadata": {},
   "outputs": [
    {
     "data": {
      "text/html": [
       "<style>div.sk-top-container {color: black;background-color: white;}div.sk-toggleable {background-color: white;}label.sk-toggleable__label {cursor: pointer;display: block;width: 100%;margin-bottom: 0;padding: 0.2em 0.3em;box-sizing: border-box;text-align: center;}div.sk-toggleable__content {max-height: 0;max-width: 0;overflow: hidden;text-align: left;background-color: #f0f8ff;}div.sk-toggleable__content pre {margin: 0.2em;color: black;border-radius: 0.25em;background-color: #f0f8ff;}input.sk-toggleable__control:checked~div.sk-toggleable__content {max-height: 200px;max-width: 100%;overflow: auto;}div.sk-estimator input.sk-toggleable__control:checked~label.sk-toggleable__label {background-color: #d4ebff;}div.sk-label input.sk-toggleable__control:checked~label.sk-toggleable__label {background-color: #d4ebff;}input.sk-hidden--visually {border: 0;clip: rect(1px 1px 1px 1px);clip: rect(1px, 1px, 1px, 1px);height: 1px;margin: -1px;overflow: hidden;padding: 0;position: absolute;width: 1px;}div.sk-estimator {font-family: monospace;background-color: #f0f8ff;margin: 0.25em 0.25em;border: 1px dotted black;border-radius: 0.25em;box-sizing: border-box;}div.sk-estimator:hover {background-color: #d4ebff;}div.sk-parallel-item::after {content: \"\";width: 100%;border-bottom: 1px solid gray;flex-grow: 1;}div.sk-label:hover label.sk-toggleable__label {background-color: #d4ebff;}div.sk-serial::before {content: \"\";position: absolute;border-left: 1px solid gray;box-sizing: border-box;top: 2em;bottom: 0;left: 50%;}div.sk-serial {display: flex;flex-direction: column;align-items: center;background-color: white;}div.sk-item {z-index: 1;}div.sk-parallel {display: flex;align-items: stretch;justify-content: center;background-color: white;}div.sk-parallel-item {display: flex;flex-direction: column;position: relative;background-color: white;}div.sk-parallel-item:first-child::after {align-self: flex-end;width: 50%;}div.sk-parallel-item:last-child::after {align-self: flex-start;width: 50%;}div.sk-parallel-item:only-child::after {width: 0;}div.sk-dashed-wrapped {border: 1px dashed gray;margin: 0.2em;box-sizing: border-box;padding-bottom: 0.1em;background-color: white;position: relative;}div.sk-label label {font-family: monospace;font-weight: bold;background-color: white;display: inline-block;line-height: 1.2em;}div.sk-label-container {position: relative;z-index: 2;text-align: center;}div.sk-container {display: inline-block;position: relative;}</style><div class=\"sk-top-container\"><div class=\"sk-container\"><div class=\"sk-item sk-dashed-wrapped\"><div class=\"sk-label-container\"><div class=\"sk-label sk-toggleable\"><input class=\"sk-toggleable__control sk-hidden--visually\" id=\"b250f1e2-372d-441a-8e4d-a6787f89727c\" type=\"checkbox\" ><label class=\"sk-toggleable__label\" for=\"b250f1e2-372d-441a-8e4d-a6787f89727c\">Pipeline</label><div class=\"sk-toggleable__content\"><pre>Pipeline(steps=[('data_preprocessing',\n",
       "                 ColumnTransformer(transformers=[('numerical_pre',\n",
       "                                                  Pipeline(steps=[('num_scaler',\n",
       "                                                                   MinMaxScaler())]),\n",
       "                                                  ['time', 'rating']),\n",
       "                                                 ('text_pre_0',\n",
       "                                                  Pipeline(steps=[('text_vect_0',\n",
       "                                                                   CountVectorizer(binary=True,\n",
       "                                                                                   max_features=50))]),\n",
       "                                                  'summary'),\n",
       "                                                 ('text_pre_1',\n",
       "                                                  Pipeline(steps=[('text_vect_1',\n",
       "                                                                   CountVectorizer(binary=True,\n",
       "                                                                                   max_features=150))]),\n",
       "                                                  'reviewText')])),\n",
       "                ('lr', LinearRegression())])</pre></div></div></div><div class=\"sk-serial\"><div class=\"sk-item sk-dashed-wrapped\"><div class=\"sk-label-container\"><div class=\"sk-label sk-toggleable\"><input class=\"sk-toggleable__control sk-hidden--visually\" id=\"a9145afe-b7ad-4761-bde4-ecd3cf884430\" type=\"checkbox\" ><label class=\"sk-toggleable__label\" for=\"a9145afe-b7ad-4761-bde4-ecd3cf884430\">data_preprocessing: ColumnTransformer</label><div class=\"sk-toggleable__content\"><pre>ColumnTransformer(transformers=[('numerical_pre',\n",
       "                                 Pipeline(steps=[('num_scaler',\n",
       "                                                  MinMaxScaler())]),\n",
       "                                 ['time', 'rating']),\n",
       "                                ('text_pre_0',\n",
       "                                 Pipeline(steps=[('text_vect_0',\n",
       "                                                  CountVectorizer(binary=True,\n",
       "                                                                  max_features=50))]),\n",
       "                                 'summary'),\n",
       "                                ('text_pre_1',\n",
       "                                 Pipeline(steps=[('text_vect_1',\n",
       "                                                  CountVectorizer(binary=True,\n",
       "                                                                  max_features=150))]),\n",
       "                                 'reviewText')])</pre></div></div></div><div class=\"sk-parallel\"><div class=\"sk-parallel-item\"><div class=\"sk-item\"><div class=\"sk-label-container\"><div class=\"sk-label sk-toggleable\"><input class=\"sk-toggleable__control sk-hidden--visually\" id=\"efcb66e7-8ae1-489d-b82c-216933a1ad96\" type=\"checkbox\" ><label class=\"sk-toggleable__label\" for=\"efcb66e7-8ae1-489d-b82c-216933a1ad96\">numerical_pre</label><div class=\"sk-toggleable__content\"><pre>['time', 'rating']</pre></div></div></div><div class=\"sk-serial\"><div class=\"sk-item\"><div class=\"sk-serial\"><div class=\"sk-item\"><div class=\"sk-estimator sk-toggleable\"><input class=\"sk-toggleable__control sk-hidden--visually\" id=\"4b7712af-4977-4501-82ec-2801efda525a\" type=\"checkbox\" ><label class=\"sk-toggleable__label\" for=\"4b7712af-4977-4501-82ec-2801efda525a\">MinMaxScaler</label><div class=\"sk-toggleable__content\"><pre>MinMaxScaler()</pre></div></div></div></div></div></div></div></div><div class=\"sk-parallel-item\"><div class=\"sk-item\"><div class=\"sk-label-container\"><div class=\"sk-label sk-toggleable\"><input class=\"sk-toggleable__control sk-hidden--visually\" id=\"afcabb4f-782d-4064-9c45-48775b3412e3\" type=\"checkbox\" ><label class=\"sk-toggleable__label\" for=\"afcabb4f-782d-4064-9c45-48775b3412e3\">text_pre_0</label><div class=\"sk-toggleable__content\"><pre>summary</pre></div></div></div><div class=\"sk-serial\"><div class=\"sk-item\"><div class=\"sk-serial\"><div class=\"sk-item\"><div class=\"sk-estimator sk-toggleable\"><input class=\"sk-toggleable__control sk-hidden--visually\" id=\"9ae08cd6-99b8-44ea-9df8-0ff8ce5eb10d\" type=\"checkbox\" ><label class=\"sk-toggleable__label\" for=\"9ae08cd6-99b8-44ea-9df8-0ff8ce5eb10d\">CountVectorizer</label><div class=\"sk-toggleable__content\"><pre>CountVectorizer(binary=True, max_features=50)</pre></div></div></div></div></div></div></div></div><div class=\"sk-parallel-item\"><div class=\"sk-item\"><div class=\"sk-label-container\"><div class=\"sk-label sk-toggleable\"><input class=\"sk-toggleable__control sk-hidden--visually\" id=\"8ea493ed-aeb4-4c04-b5df-3f01076c11b2\" type=\"checkbox\" ><label class=\"sk-toggleable__label\" for=\"8ea493ed-aeb4-4c04-b5df-3f01076c11b2\">text_pre_1</label><div class=\"sk-toggleable__content\"><pre>reviewText</pre></div></div></div><div class=\"sk-serial\"><div class=\"sk-item\"><div class=\"sk-serial\"><div class=\"sk-item\"><div class=\"sk-estimator sk-toggleable\"><input class=\"sk-toggleable__control sk-hidden--visually\" id=\"940f11a8-4adf-4205-aa70-90612f7e0633\" type=\"checkbox\" ><label class=\"sk-toggleable__label\" for=\"940f11a8-4adf-4205-aa70-90612f7e0633\">CountVectorizer</label><div class=\"sk-toggleable__content\"><pre>CountVectorizer(binary=True, max_features=150)</pre></div></div></div></div></div></div></div></div></div></div><div class=\"sk-item\"><div class=\"sk-estimator sk-toggleable\"><input class=\"sk-toggleable__control sk-hidden--visually\" id=\"d3b8ad9d-ea6f-4083-8120-3e0b6afaeaeb\" type=\"checkbox\" ><label class=\"sk-toggleable__label\" for=\"d3b8ad9d-ea6f-4083-8120-3e0b6afaeaeb\">LinearRegression</label><div class=\"sk-toggleable__content\"><pre>LinearRegression()</pre></div></div></div></div></div></div></div>"
      ],
      "text/plain": [
       "Pipeline(steps=[('data_preprocessing',\n",
       "                 ColumnTransformer(transformers=[('numerical_pre',\n",
       "                                                  Pipeline(steps=[('num_scaler',\n",
       "                                                                   MinMaxScaler())]),\n",
       "                                                  ['time', 'rating']),\n",
       "                                                 ('text_pre_0',\n",
       "                                                  Pipeline(steps=[('text_vect_0',\n",
       "                                                                   CountVectorizer(binary=True,\n",
       "                                                                                   max_features=50))]),\n",
       "                                                  'summary'),\n",
       "                                                 ('text_pre_1',\n",
       "                                                  Pipeline(steps=[('text_vect_1',\n",
       "                                                                   CountVectorizer(binary=True,\n",
       "                                                                                   max_features=150))]),\n",
       "                                                  'reviewText')])),\n",
       "                ('lr', LinearRegression())])"
      ]
     },
     "execution_count": 11,
     "metadata": {},
     "output_type": "execute_result"
    }
   ],
   "source": [
    "from sklearn.impute import SimpleImputer\n",
    "from sklearn.preprocessing import MinMaxScaler\n",
    "from sklearn.feature_extraction.text import CountVectorizer\n",
    "from sklearn.pipeline import Pipeline\n",
    "from sklearn.compose import ColumnTransformer\n",
    "from sklearn.linear_model import LinearRegression\n",
    "\n",
    "### COLUMN_TRANSFORMER ###\n",
    "##########################\n",
    "\n",
    "# Preprocess the numerical features\n",
    "numerical_processor = Pipeline([\n",
    "    ('num_scaler', MinMaxScaler())\n",
    "])\n",
    "# Preprocess 1st text feature\n",
    "text_processor_0 = Pipeline([\n",
    "    ('text_vect_0', CountVectorizer(binary=True, max_features=50))\n",
    "])\n",
    "\n",
    "# Preprocess 2nd text feature (larger vocabulary)\n",
    "text_precessor_1 = Pipeline([\n",
    "    ('text_vect_1', CountVectorizer(binary=True, max_features=150))\n",
    "])\n",
    "\n",
    "# Combine all data preprocessors from above (add more, if you choose to define more!)\n",
    "# For each processor/step specify: a name, the actual process, and finally the features to be processed\n",
    "data_preprocessor = ColumnTransformer([\n",
    "    ('numerical_pre', numerical_processor, numerical_features),\n",
    "    ('text_pre_0', text_processor_0, text_features[0]),\n",
    "    ('text_pre_1', text_precessor_1, text_features[1])\n",
    "]) \n",
    "\n",
    "### PIPELINE ###\n",
    "################\n",
    "\n",
    "# Pipeline desired all data transformers, along with an estimator at the end\n",
    "# Later you can set/reach the parameters using the names issued - for hyperparameter tuning, for example\n",
    "pipeline = Pipeline([\n",
    "    ('data_preprocessing', data_preprocessor),\n",
    "    ('lr', LinearRegression())\n",
    "])\n",
    "\n",
    "# Visualize the pipeline\n",
    "# This will come in handy especially when building more complex pipelines, stringing together multiple preprocessing steps\n",
    "from sklearn import set_config\n",
    "set_config(display='diagram')\n",
    "pipeline"
   ]
  },
  {
   "cell_type": "code",
   "execution_count": 12,
   "metadata": {},
   "outputs": [
    {
     "data": {
      "text/html": [
       "<style>div.sk-top-container {color: black;background-color: white;}div.sk-toggleable {background-color: white;}label.sk-toggleable__label {cursor: pointer;display: block;width: 100%;margin-bottom: 0;padding: 0.2em 0.3em;box-sizing: border-box;text-align: center;}div.sk-toggleable__content {max-height: 0;max-width: 0;overflow: hidden;text-align: left;background-color: #f0f8ff;}div.sk-toggleable__content pre {margin: 0.2em;color: black;border-radius: 0.25em;background-color: #f0f8ff;}input.sk-toggleable__control:checked~div.sk-toggleable__content {max-height: 200px;max-width: 100%;overflow: auto;}div.sk-estimator input.sk-toggleable__control:checked~label.sk-toggleable__label {background-color: #d4ebff;}div.sk-label input.sk-toggleable__control:checked~label.sk-toggleable__label {background-color: #d4ebff;}input.sk-hidden--visually {border: 0;clip: rect(1px 1px 1px 1px);clip: rect(1px, 1px, 1px, 1px);height: 1px;margin: -1px;overflow: hidden;padding: 0;position: absolute;width: 1px;}div.sk-estimator {font-family: monospace;background-color: #f0f8ff;margin: 0.25em 0.25em;border: 1px dotted black;border-radius: 0.25em;box-sizing: border-box;}div.sk-estimator:hover {background-color: #d4ebff;}div.sk-parallel-item::after {content: \"\";width: 100%;border-bottom: 1px solid gray;flex-grow: 1;}div.sk-label:hover label.sk-toggleable__label {background-color: #d4ebff;}div.sk-serial::before {content: \"\";position: absolute;border-left: 1px solid gray;box-sizing: border-box;top: 2em;bottom: 0;left: 50%;}div.sk-serial {display: flex;flex-direction: column;align-items: center;background-color: white;}div.sk-item {z-index: 1;}div.sk-parallel {display: flex;align-items: stretch;justify-content: center;background-color: white;}div.sk-parallel-item {display: flex;flex-direction: column;position: relative;background-color: white;}div.sk-parallel-item:first-child::after {align-self: flex-end;width: 50%;}div.sk-parallel-item:last-child::after {align-self: flex-start;width: 50%;}div.sk-parallel-item:only-child::after {width: 0;}div.sk-dashed-wrapped {border: 1px dashed gray;margin: 0.2em;box-sizing: border-box;padding-bottom: 0.1em;background-color: white;position: relative;}div.sk-label label {font-family: monospace;font-weight: bold;background-color: white;display: inline-block;line-height: 1.2em;}div.sk-label-container {position: relative;z-index: 2;text-align: center;}div.sk-container {display: inline-block;position: relative;}</style><div class=\"sk-top-container\"><div class=\"sk-container\"><div class=\"sk-item sk-dashed-wrapped\"><div class=\"sk-label-container\"><div class=\"sk-label sk-toggleable\"><input class=\"sk-toggleable__control sk-hidden--visually\" id=\"fd588721-9d48-4a37-9a98-cfa45289e4bb\" type=\"checkbox\" ><label class=\"sk-toggleable__label\" for=\"fd588721-9d48-4a37-9a98-cfa45289e4bb\">Pipeline</label><div class=\"sk-toggleable__content\"><pre>Pipeline(steps=[('data_preprocessing',\n",
       "                 ColumnTransformer(transformers=[('numerical_pre',\n",
       "                                                  Pipeline(steps=[('num_scaler',\n",
       "                                                                   MinMaxScaler())]),\n",
       "                                                  ['time', 'rating']),\n",
       "                                                 ('text_pre_0',\n",
       "                                                  Pipeline(steps=[('text_vect_0',\n",
       "                                                                   CountVectorizer(binary=True,\n",
       "                                                                                   max_features=50))]),\n",
       "                                                  'summary'),\n",
       "                                                 ('text_pre_1',\n",
       "                                                  Pipeline(steps=[('text_vect_1',\n",
       "                                                                   CountVectorizer(binary=True,\n",
       "                                                                                   max_features=150))]),\n",
       "                                                  'reviewText')])),\n",
       "                ('lr', LinearRegression())])</pre></div></div></div><div class=\"sk-serial\"><div class=\"sk-item sk-dashed-wrapped\"><div class=\"sk-label-container\"><div class=\"sk-label sk-toggleable\"><input class=\"sk-toggleable__control sk-hidden--visually\" id=\"06d2b438-b9d2-42c8-8cfa-299f2da1d541\" type=\"checkbox\" ><label class=\"sk-toggleable__label\" for=\"06d2b438-b9d2-42c8-8cfa-299f2da1d541\">data_preprocessing: ColumnTransformer</label><div class=\"sk-toggleable__content\"><pre>ColumnTransformer(transformers=[('numerical_pre',\n",
       "                                 Pipeline(steps=[('num_scaler',\n",
       "                                                  MinMaxScaler())]),\n",
       "                                 ['time', 'rating']),\n",
       "                                ('text_pre_0',\n",
       "                                 Pipeline(steps=[('text_vect_0',\n",
       "                                                  CountVectorizer(binary=True,\n",
       "                                                                  max_features=50))]),\n",
       "                                 'summary'),\n",
       "                                ('text_pre_1',\n",
       "                                 Pipeline(steps=[('text_vect_1',\n",
       "                                                  CountVectorizer(binary=True,\n",
       "                                                                  max_features=150))]),\n",
       "                                 'reviewText')])</pre></div></div></div><div class=\"sk-parallel\"><div class=\"sk-parallel-item\"><div class=\"sk-item\"><div class=\"sk-label-container\"><div class=\"sk-label sk-toggleable\"><input class=\"sk-toggleable__control sk-hidden--visually\" id=\"6cdf1c84-8314-4fb0-b629-c446d2430714\" type=\"checkbox\" ><label class=\"sk-toggleable__label\" for=\"6cdf1c84-8314-4fb0-b629-c446d2430714\">numerical_pre</label><div class=\"sk-toggleable__content\"><pre>['time', 'rating']</pre></div></div></div><div class=\"sk-serial\"><div class=\"sk-item\"><div class=\"sk-serial\"><div class=\"sk-item\"><div class=\"sk-estimator sk-toggleable\"><input class=\"sk-toggleable__control sk-hidden--visually\" id=\"f72d88be-c79d-49e5-a7e4-0dd37b537714\" type=\"checkbox\" ><label class=\"sk-toggleable__label\" for=\"f72d88be-c79d-49e5-a7e4-0dd37b537714\">MinMaxScaler</label><div class=\"sk-toggleable__content\"><pre>MinMaxScaler()</pre></div></div></div></div></div></div></div></div><div class=\"sk-parallel-item\"><div class=\"sk-item\"><div class=\"sk-label-container\"><div class=\"sk-label sk-toggleable\"><input class=\"sk-toggleable__control sk-hidden--visually\" id=\"ea6bbbe9-a2cb-45ac-b961-20d90971a111\" type=\"checkbox\" ><label class=\"sk-toggleable__label\" for=\"ea6bbbe9-a2cb-45ac-b961-20d90971a111\">text_pre_0</label><div class=\"sk-toggleable__content\"><pre>summary</pre></div></div></div><div class=\"sk-serial\"><div class=\"sk-item\"><div class=\"sk-serial\"><div class=\"sk-item\"><div class=\"sk-estimator sk-toggleable\"><input class=\"sk-toggleable__control sk-hidden--visually\" id=\"3bbe0e0e-770d-4680-a5c9-261f8f10afb3\" type=\"checkbox\" ><label class=\"sk-toggleable__label\" for=\"3bbe0e0e-770d-4680-a5c9-261f8f10afb3\">CountVectorizer</label><div class=\"sk-toggleable__content\"><pre>CountVectorizer(binary=True, max_features=50)</pre></div></div></div></div></div></div></div></div><div class=\"sk-parallel-item\"><div class=\"sk-item\"><div class=\"sk-label-container\"><div class=\"sk-label sk-toggleable\"><input class=\"sk-toggleable__control sk-hidden--visually\" id=\"d0e62fb6-0834-4e00-b99c-8d5d8804e344\" type=\"checkbox\" ><label class=\"sk-toggleable__label\" for=\"d0e62fb6-0834-4e00-b99c-8d5d8804e344\">text_pre_1</label><div class=\"sk-toggleable__content\"><pre>reviewText</pre></div></div></div><div class=\"sk-serial\"><div class=\"sk-item\"><div class=\"sk-serial\"><div class=\"sk-item\"><div class=\"sk-estimator sk-toggleable\"><input class=\"sk-toggleable__control sk-hidden--visually\" id=\"3f460268-af46-4a06-ac72-f42694850051\" type=\"checkbox\" ><label class=\"sk-toggleable__label\" for=\"3f460268-af46-4a06-ac72-f42694850051\">CountVectorizer</label><div class=\"sk-toggleable__content\"><pre>CountVectorizer(binary=True, max_features=150)</pre></div></div></div></div></div></div></div></div></div></div><div class=\"sk-item\"><div class=\"sk-estimator sk-toggleable\"><input class=\"sk-toggleable__control sk-hidden--visually\" id=\"c4221a22-18ff-4193-8a5c-1b4ae2c34360\" type=\"checkbox\" ><label class=\"sk-toggleable__label\" for=\"c4221a22-18ff-4193-8a5c-1b4ae2c34360\">LinearRegression</label><div class=\"sk-toggleable__content\"><pre>LinearRegression()</pre></div></div></div></div></div></div></div>"
      ],
      "text/plain": [
       "Pipeline(steps=[('data_preprocessing',\n",
       "                 ColumnTransformer(transformers=[('numerical_pre',\n",
       "                                                  Pipeline(steps=[('num_scaler',\n",
       "                                                                   MinMaxScaler())]),\n",
       "                                                  ['time', 'rating']),\n",
       "                                                 ('text_pre_0',\n",
       "                                                  Pipeline(steps=[('text_vect_0',\n",
       "                                                                   CountVectorizer(binary=True,\n",
       "                                                                                   max_features=50))]),\n",
       "                                                  'summary'),\n",
       "                                                 ('text_pre_1',\n",
       "                                                  Pipeline(steps=[('text_vect_1',\n",
       "                                                                   CountVectorizer(binary=True,\n",
       "                                                                                   max_features=150))]),\n",
       "                                                  'reviewText')])),\n",
       "                ('lr', LinearRegression())])"
      ]
     },
     "execution_count": 12,
     "metadata": {},
     "output_type": "execute_result"
    }
   ],
   "source": [
    "# Fit the Pipeline to training data\n",
    "pipeline.fit(X_train[model_features], y_train.values)"
   ]
  },
  {
   "cell_type": "markdown",
   "metadata": {},
   "source": [
    "<b>LinearRegression</b>\n",
    "Let's first fit LinearRegression from Sklearn library, and check the performance on the validation dataset. Using the coef_ atribute, we can also print the learned weights of the model.\n",
    "\n",
    "Find more details on LinearRegression here: https://scikit-learn.org/stable/modules/generated/sklearn.linear_model.LinearRegression.html"
   ]
  },
  {
   "cell_type": "code",
   "execution_count": 13,
   "metadata": {},
   "outputs": [
    {
     "name": "stdout",
     "output_type": "stream",
     "text": [
      "LinearRegression on Validation: Mean_squared_error: 0.591002,  R_square_score: 0.356090\n",
      "LinearRegression model weights: \n",
      " [-1.74577245e+00 -4.16698691e-01  6.55478179e-02 -2.35272587e-02\n",
      "  8.61182130e-02 -1.01365634e-02  7.93570945e-02  1.00553640e-01\n",
      "  5.29775822e-02  2.05177288e-02  5.73231401e-02  2.22065171e-01\n",
      "  9.93801540e-02 -1.37718544e-02 -4.06337509e-02 -1.06054584e-04\n",
      "  4.40533068e-02  9.05416164e-02  2.17865284e-02  1.26157731e-02\n",
      " -2.25996291e-02  8.55590009e-03  2.45830779e-02 -2.33422363e-02\n",
      " -3.30934184e-02 -9.93257374e-03 -1.51382179e-01 -3.76458293e-02\n",
      "  6.49464633e-02 -1.17080180e-02  1.08904281e-02  1.58619482e-02\n",
      " -4.96701343e-02 -5.60326944e-02  5.79966953e-02 -8.74212104e-02\n",
      "  1.68585018e-02 -4.05427013e-02  2.67941221e-02  4.66072220e-02\n",
      " -9.31192147e-03  1.16266401e-01  2.62079452e-02 -2.14293910e-02\n",
      " -1.19377748e-02 -4.02070684e-02 -5.45584216e-02 -1.20253346e-01\n",
      "  1.28724719e-02  5.21390340e-02 -1.36309560e-02  8.86498669e-02\n",
      "  5.41902858e-03 -4.70436895e-02  9.00102459e-02  6.50375219e-02\n",
      "  6.40223876e-02 -4.80327965e-02  5.21240265e-02  2.77750163e-02\n",
      " -1.33438319e-02  2.49353788e-02  1.52699206e-02  4.96212327e-03\n",
      "  2.69376096e-02  4.02836964e-02  3.99165505e-02  1.09039048e-01\n",
      "  6.67883491e-02  8.41275292e-02  8.75899221e-02 -1.99724975e-02\n",
      " -4.10796861e-02  1.20798268e-01  1.03692486e-01  2.50603342e-02\n",
      "  5.49377968e-02  1.33950874e-02  9.01978406e-04  8.62118113e-03\n",
      "  1.03024589e-02  1.76771982e-02  1.58155820e-02  3.10950867e-02\n",
      "  8.68790247e-02  2.62198656e-02  6.90473530e-02  9.47749911e-03\n",
      " -5.32945653e-03 -2.52715108e-02  7.86192973e-02  4.59838498e-02\n",
      "  2.21096133e-02  1.36522011e-02 -1.70641671e-02  1.81244906e-02\n",
      "  2.28458942e-02  3.49103568e-02  1.92654562e-03 -7.10766120e-03\n",
      "  5.47011149e-03 -1.32658413e-02  1.70604949e-02  6.10174808e-02\n",
      " -5.82946843e-03  6.08734244e-02  4.66457462e-03  1.25992750e-01\n",
      "  2.07872661e-02  3.18138437e-02  1.37395062e-01  3.64372876e-04\n",
      "  2.82336728e-03 -1.89572241e-02  2.59829958e-02  1.17414117e-01\n",
      "  1.52375054e-02 -3.92035242e-02  1.76682396e-02  3.49442449e-02\n",
      "  1.10496408e-01 -2.62613199e-02  1.74393247e-02 -2.61449188e-02\n",
      "  2.30374333e-02  5.66552965e-02  5.47469438e-02  2.12444391e-02\n",
      "  7.42135059e-02  5.54878972e-02  2.96623454e-02  2.43045305e-02\n",
      "  1.24599820e-02 -3.66277956e-02  5.10799410e-02 -9.19428776e-02\n",
      "  2.57354249e-02 -1.59824783e-02  4.48772534e-02 -4.43224368e-02\n",
      " -8.88172696e-04  1.04419288e-02  4.80140067e-02  6.02080367e-02\n",
      "  3.17706960e-02  9.05653607e-03 -3.71850139e-02  6.11202431e-03\n",
      "  5.73254423e-02  6.00431459e-02  3.66191913e-02  1.28896599e-02\n",
      " -8.39158540e-02  9.64004691e-02  6.07978365e-02  1.50602662e-02\n",
      "  2.91248910e-02  1.49544472e-02  1.21161585e-01  3.57840398e-02\n",
      "  1.68270865e-02 -3.11508826e-02  1.75286156e-02  4.75853960e-02\n",
      " -3.34273486e-02 -5.20172426e-02  1.90868557e-02 -2.86795767e-02\n",
      "  9.26338759e-03  4.65485025e-02  3.57844390e-02 -3.84311978e-02\n",
      "  1.98141003e-02 -7.98409362e-02  3.81529519e-05  4.44686670e-02\n",
      " -1.08130120e-02 -7.87799732e-03 -1.15672539e-02 -1.11204030e-01\n",
      "  1.54504381e-02  8.73568789e-03  2.00025566e-02 -2.14059537e-02\n",
      "  4.16409925e-03  3.86761344e-02  1.37955462e-02  6.06026755e-02\n",
      "  7.20052636e-03  3.61108643e-02  6.47835497e-02  5.97964567e-02\n",
      "  5.21137472e-02  4.88785616e-02  1.04477643e-02  2.96484664e-02\n",
      "  5.59791095e-02  1.21384510e-01  1.10461587e-03  4.91267183e-03\n",
      " -2.28299356e-02  1.79474701e-02]\n"
     ]
    }
   ],
   "source": [
    "from sklearn.linear_model import LinearRegression\n",
    "from sklearn.metrics import r2_score, mean_squared_error\n",
    "\n",
    "lrRegressor_val_predictions = pipeline.predict(X_val[model_features])\n",
    "print(\"LinearRegression on Validation: Mean_squared_error: %f,  R_square_score: %f\" % \\\n",
    "      (mean_squared_error(y_val, lrRegressor_val_predictions),r2_score(y_val, lrRegressor_val_predictions)))\n",
    "print(\"LinearRegression model weights: \\n\", pipeline.named_steps['lr'].coef_)"
   ]
  },
  {
   "cell_type": "markdown",
   "metadata": {},
   "source": [
    "<b>Ridge (Linear Regression with L2 regularization)</b>\n",
    "Let's now fit Ridge from Sklearn library, and check the performance on the validation dataset.\n",
    "\n",
    "Find more details on Ridge here: https://scikit-learn.org/stable/modules/generated/sklearn.linear_model.Ridge.html\n",
    "\n",
    "To improve the performance of a LinearRegression model, Ridge is tuning model complexity by adding a $L_2$ penalty score for complexity to the model cost function:\n",
    "\n",
    "$$\\text{C}_{\\text{regularized}}(\\textbf{w}) = \\text{C}(\\textbf{w}) +  {alpha}∗||\\textbf{w}||_2^2$$\n",
    "where $\\textbf{w}$ is the model weights vector, and $||\\textbf{w}||_2^2 = \\sum \\textbf{w}_i^2$.\n",
    "\n",
    "The strength of the regularization is controlled by the regularizer parameter, alpha: smaller value of $alpha$, weaker regularization; larger value of $alpha$, stronger regularization."
   ]
  },
  {
   "cell_type": "code",
   "execution_count": 14,
   "metadata": {},
   "outputs": [
    {
     "name": "stdout",
     "output_type": "stream",
     "text": [
      "Ridge on Validation: Mean_squared_error: 0.589703,  R_square_score: 0.357506\n",
      "Ridge model weights: \n",
      " [-1.62648079e+00 -4.04075727e-01  5.80555136e-02 -2.25636900e-02\n",
      "  7.87477589e-02 -1.08407800e-02  5.89973415e-02  8.22764393e-02\n",
      "  4.35481972e-02  1.30580769e-02  4.91960821e-02  1.56938051e-01\n",
      "  3.43309430e-02 -1.37064320e-02 -4.37536214e-02 -4.01058625e-03\n",
      "  3.66347929e-02  7.18727198e-02  1.44831335e-02  4.29764227e-03\n",
      " -2.19734716e-02 -2.03028626e-03  8.37484300e-03 -2.42634475e-02\n",
      " -3.31531654e-02 -9.63737330e-03 -1.21653138e-01 -7.14120658e-02\n",
      "  5.41043296e-02 -8.08645531e-03  8.39674407e-03  1.22995022e-02\n",
      " -4.82867362e-02 -5.34970309e-02  5.08611003e-02 -4.54669660e-02\n",
      "  1.89929964e-02 -4.23438430e-02 -2.90360249e-02  3.36979899e-02\n",
      " -1.18758950e-02  9.45785602e-02 -2.20714325e-02 -1.74710998e-02\n",
      " -1.45627870e-02 -3.34926315e-02 -5.03281331e-02 -8.39422441e-02\n",
      "  6.64784465e-03  4.44580450e-02 -1.77632022e-02  7.80698125e-02\n",
      "  4.98607300e-03 -4.81647539e-02  8.46607016e-02  6.29489979e-02\n",
      "  6.53558266e-02 -4.79518884e-02  4.66433755e-02  2.79258834e-02\n",
      " -1.17919130e-02  2.64317441e-02  1.68757145e-02  8.04781738e-03\n",
      "  2.67641817e-02  4.32291876e-02  3.79181231e-02  1.03874867e-01\n",
      "  6.48356260e-02  8.21667070e-02  8.55329415e-02 -2.02192587e-02\n",
      " -3.95200477e-02  1.17339137e-01  1.00696819e-01  2.55920891e-02\n",
      "  5.28365504e-02  9.44968880e-03  2.13342201e-03  1.13244442e-02\n",
      "  1.36686724e-02  1.70360811e-02  1.53387542e-02  3.29432974e-02\n",
      "  8.30510501e-02  2.52851231e-02  6.92652345e-02  9.37849409e-03\n",
      " -3.58974008e-03 -2.37881104e-02  7.88248027e-02  4.21838665e-02\n",
      "  2.37049658e-02  1.15276486e-02 -3.24118131e-03  1.97332865e-02\n",
      "  2.37244347e-02  3.48611491e-02  2.80346938e-03 -6.25256577e-03\n",
      "  6.42956039e-03 -1.03506248e-02  1.88883540e-02  5.96956705e-02\n",
      " -2.95523914e-03  5.95959954e-02  6.51172236e-03  1.21428657e-01\n",
      "  2.30241566e-02  3.34872680e-02  1.31798009e-01 -3.64870993e-03\n",
      "  2.67802408e-04 -1.68287231e-02  2.52663915e-02  1.15848421e-01\n",
      "  1.62309683e-02 -3.64512991e-02  1.72896754e-02  3.14376188e-02\n",
      "  1.09529669e-01 -2.43801899e-02  1.57173169e-02 -2.33811883e-02\n",
      "  2.31339062e-02  5.76971077e-02  5.61111699e-02  2.06970172e-02\n",
      "  7.36259170e-02  5.79003875e-02  2.92353469e-02  2.45610546e-02\n",
      "  1.17470701e-02 -3.42098938e-02  5.20019381e-02 -8.62665577e-02\n",
      "  2.71790634e-02 -1.43993096e-02  4.69054572e-02 -4.23751844e-02\n",
      " -2.64738204e-03  8.23517859e-03  4.55169458e-02  5.83995458e-02\n",
      "  3.43412999e-02  9.14306215e-03 -3.29640677e-02  1.13205440e-02\n",
      "  6.09963804e-02  6.05940915e-02  3.62557162e-02  1.21576901e-02\n",
      " -7.89352153e-02  9.35788952e-02  5.98847975e-02  1.67467092e-02\n",
      "  2.97531574e-02  1.61091633e-02  1.19441353e-01  3.65128959e-02\n",
      "  1.82379842e-02 -2.86517836e-02  1.81485950e-02  4.66736614e-02\n",
      " -3.11934365e-02 -4.58664386e-02  1.90769635e-02 -2.53091946e-02\n",
      "  1.05514750e-02  4.50889696e-02  4.03288873e-02 -3.69300199e-02\n",
      "  2.00706987e-02 -7.39315863e-02  1.03932950e-03  4.79818845e-02\n",
      " -1.19911306e-02 -2.21339371e-03 -9.23349456e-03 -1.07738579e-01\n",
      "  1.39508776e-02  1.07842778e-02  2.24637481e-02 -1.94265348e-02\n",
      "  5.16215652e-03  3.91613106e-02  1.28141607e-02  6.08832189e-02\n",
      "  7.94458979e-03  3.74528573e-02  6.42901351e-02  6.08379624e-02\n",
      "  5.20724011e-02  4.94219068e-02  1.14813265e-02  2.69585762e-02\n",
      "  5.45909007e-02  1.16336201e-01  6.03043141e-04  7.30476045e-03\n",
      " -2.08423691e-02  1.56765229e-02]\n"
     ]
    }
   ],
   "source": [
    "from sklearn.linear_model import Ridge\n",
    "from sklearn.metrics import r2_score, mean_squared_error\n",
    "\n",
    "# Let's update the pipeline with Ridge regression model\n",
    "ridge_pipeline = Pipeline([\n",
    "    ('data_preprocessing', data_preprocessor),\n",
    "    ('ridge', Ridge(alpha = 100))\n",
    "])\n",
    "\n",
    "ridge_pipeline.fit(X_train[model_features], y_train.values)\n",
    "ridgeRegressor_val_predictions = ridge_pipeline.predict(X_val[model_features])\n",
    "\n",
    "print(\"Ridge on Validation: Mean_squared_error: %f,  R_square_score: %f\" % \\\n",
    "      (mean_squared_error(y_val, ridgeRegressor_val_predictions),r2_score(y_val, ridgeRegressor_val_predictions)))\n",
    "\n",
    "print(\"Ridge model weights: \\n\", ridge_pipeline.named_steps['ridge'].coef_)\n",
    "\n"
   ]
  },
  {
   "cell_type": "markdown",
   "metadata": {},
   "source": [
    "<b>LASSO (Linear Regression with L1 regularization)</b>\n",
    "Let's also fit Lasso from Sklearn library, and check the performance on the validation dataset.\n",
    "\n",
    "Find more details on Lasso here: https://scikit-learn.org/stable/modules/generated/sklearn.linear_model.Lasso.html\n",
    "\n",
    "Lasso is tuning model complexity by adding a $L_1$ penalty score for complexity to the model cost function:\n",
    "\n",
    "$$\\text{C}_{\\text{regularized}}(\\textbf{w}) = \\text{C}(\\textbf{w}) +  alpha∗||\\textbf{w}||_1$$\n",
    "where $\\textbf{w}$ is the model weights vector, and $||\\textbf{w}||_1 = \\sum |\\textbf{w}_i|$.\n",
    "\n",
    "Again, the strength of the regularization is controlled by the regularizer parameter, $alpha$. Due to the geometry of $L_1$ norm, with Lasso, some of the weights will shrink all the way to 0, leading to sparsity - some of the features are not contributing to the model afterall!"
   ]
  },
  {
   "cell_type": "code",
   "execution_count": 15,
   "metadata": {},
   "outputs": [
    {
     "name": "stdout",
     "output_type": "stream",
     "text": [
      "Lasso on Validation: Mean_squared_error: 0.589867,  R_square_score: 0.357327\n",
      "Lasso model weights: \n",
      " [-1.72010524e+00 -3.89067686e-01  2.58213525e-02 -0.00000000e+00\n",
      "  3.82842552e-02 -0.00000000e+00  0.00000000e+00  0.00000000e+00\n",
      "  0.00000000e+00  0.00000000e+00  1.06602376e-02  1.26472385e-01\n",
      "  0.00000000e+00 -0.00000000e+00 -2.50955076e-02  0.00000000e+00\n",
      "  0.00000000e+00  0.00000000e+00  0.00000000e+00  0.00000000e+00\n",
      " -0.00000000e+00 -0.00000000e+00 -0.00000000e+00 -0.00000000e+00\n",
      " -0.00000000e+00 -0.00000000e+00 -4.63960564e-02 -5.02315491e-02\n",
      "  0.00000000e+00 -0.00000000e+00  0.00000000e+00  0.00000000e+00\n",
      " -0.00000000e+00 -0.00000000e+00  3.47943828e-02 -1.61006740e-02\n",
      "  0.00000000e+00 -7.44345517e-03 -0.00000000e+00  0.00000000e+00\n",
      " -0.00000000e+00  1.95457533e-02 -0.00000000e+00 -0.00000000e+00\n",
      "  0.00000000e+00 -0.00000000e+00 -0.00000000e+00 -0.00000000e+00\n",
      " -0.00000000e+00  0.00000000e+00 -5.88222939e-05  2.42462224e-02\n",
      "  0.00000000e+00 -1.67083722e-02  7.65288954e-02  5.11191702e-02\n",
      "  6.52495708e-02 -1.95841027e-02  4.24640009e-02  1.94354445e-02\n",
      " -0.00000000e+00  2.31689366e-02  6.60345613e-03  0.00000000e+00\n",
      "  7.77241315e-03  4.24802208e-02  2.46611963e-02  9.84988824e-02\n",
      "  5.66360446e-02  7.04583867e-02  7.39390006e-02 -7.30202686e-03\n",
      " -2.01568144e-02  1.09070226e-01  9.85161084e-02  1.89173069e-02\n",
      "  4.21733593e-02  8.92224900e-03  0.00000000e+00  1.71690041e-03\n",
      "  1.12690153e-02  8.37400874e-03  0.00000000e+00  2.08424501e-02\n",
      "  6.58613271e-02  1.11684319e-02  6.50926378e-02  0.00000000e+00\n",
      "  0.00000000e+00 -0.00000000e+00  7.75635511e-02  1.81639732e-02\n",
      "  1.34094779e-02  3.47083919e-03  0.00000000e+00  1.94450618e-02\n",
      "  1.64302217e-02  2.08545783e-02  0.00000000e+00 -0.00000000e+00\n",
      "  4.76631063e-04 -0.00000000e+00  1.11247950e-02  4.88585581e-02\n",
      "  0.00000000e+00  4.50304949e-02  0.00000000e+00  1.18703397e-01\n",
      "  0.00000000e+00  3.08937134e-02  1.23558636e-01  0.00000000e+00\n",
      "  0.00000000e+00 -0.00000000e+00  1.16569677e-02  1.21335603e-01\n",
      "  1.45310173e-02 -5.73789112e-03  0.00000000e+00  1.61575418e-02\n",
      "  1.09974422e-01 -0.00000000e+00  5.62051077e-03 -4.01496300e-03\n",
      "  7.70560592e-03  5.84355530e-02  5.64992818e-02  4.38075213e-03\n",
      "  6.32725981e-02  4.04038476e-02  1.22287629e-02  2.22709234e-02\n",
      "  1.04258533e-02 -1.31483697e-02  4.90841487e-02 -7.81193766e-02\n",
      "  2.65567658e-02 -0.00000000e+00  4.76621958e-02 -7.68826444e-03\n",
      "  0.00000000e+00  0.00000000e+00  2.78708595e-02  4.61145064e-02\n",
      "  4.89654813e-03  7.44021251e-03 -2.00508423e-02  9.89654553e-03\n",
      "  6.13162205e-02  5.69293636e-02  1.80026670e-02  0.00000000e+00\n",
      " -6.68203206e-02  8.53132296e-02  5.07280820e-02  1.31730549e-02\n",
      "  2.11212109e-02  0.00000000e+00  1.17546023e-01  2.52114748e-02\n",
      "  7.19393639e-03 -4.51436030e-05  1.42525486e-02  4.03626273e-02\n",
      " -8.38373569e-03 -6.87175976e-03  4.08641734e-03 -0.00000000e+00\n",
      "  0.00000000e+00  3.92851230e-02  4.45392213e-02 -5.89714208e-05\n",
      "  1.65714427e-02 -3.69897761e-02  0.00000000e+00  5.00988888e-02\n",
      " -0.00000000e+00  0.00000000e+00  0.00000000e+00 -9.13432006e-02\n",
      "  0.00000000e+00  4.31028874e-03  1.26817405e-02 -2.24943717e-03\n",
      "  4.04191830e-03  3.34928099e-02  2.29938781e-03  5.26626213e-02\n",
      "  4.47070643e-03  3.24783959e-02  6.23245733e-02  5.60383137e-02\n",
      "  5.44973737e-02  4.95496624e-02  7.21334713e-03  2.96171512e-02\n",
      "  4.54341406e-02  1.06924613e-01 -0.00000000e+00  0.00000000e+00\n",
      " -5.10833926e-03  1.40971226e-02]\n"
     ]
    }
   ],
   "source": [
    "from sklearn.linear_model import Lasso\n",
    "from sklearn.metrics import r2_score, mean_squared_error\n",
    "\n",
    "# Let's update the pipeline with Lasso regression model\n",
    "lasso_pipeline = Pipeline([\n",
    "    ('data_preprocessing', data_preprocessor),\n",
    "    ('lasso', Lasso(alpha = 0.001))\n",
    "])\n",
    "\n",
    "lasso_pipeline.fit(X_train[model_features], y_train.values)\n",
    "lassoRegressor_val_predictions = lasso_pipeline.predict(X_val[model_features])\n",
    "\n",
    "print(\"Lasso on Validation: Mean_squared_error: %f,  R_square_score: %f\" % \\\n",
    "      (mean_squared_error(y_val, lassoRegressor_val_predictions),r2_score(y_val, lassoRegressor_val_predictions)))\n",
    "\n",
    "print(\"Lasso model weights: \\n\", lasso_pipeline.named_steps['lasso'].coef_)"
   ]
  },
  {
   "cell_type": "markdown",
   "metadata": {},
   "source": [
    "<b>ElasticNet (Linear Regression with L2 and L1 regularization)</b>\n",
    "Let's finally try ElasticNet from Sklearn library, and check the performance on the validation dataset.\n",
    "\n",
    "Find more details on ElasticNet here: https://scikit-learn.org/stable/modules/generated/sklearn.linear_model.ElasticNet.html\n",
    "\n",
    "ElasticNet is tuning model complexity by adding both $L_2$ and $L_1$ penalty scores for complexity to the model's cost function:\n",
    "\n",
    "$$\\text{C}_{\\text{regularized}}(\\textbf{w}) = \\text{C}(\\textbf{w}) +  0.5*alpha∗(1-\\textit{l1}_{ratio})||\\textbf{w}||_2^2 + alpha∗\\textit{l1}_{ratio}∗||\\textbf{w}||_1$$\n",
    "and using two parameters, $alpha$ and $\\textit{l1}_{ratio}$, to control the strength of the regularization."
   ]
  },
  {
   "cell_type": "code",
   "execution_count": 16,
   "metadata": {},
   "outputs": [
    {
     "name": "stdout",
     "output_type": "stream",
     "text": [
      "ElasticNet on Validation: Mean_squared_error: 0.589963,  R_square_score: 0.357222\n",
      "ElasticNet model weights: \n",
      " [-1.68706874e+00 -4.07625447e-01  5.80533276e-02 -1.74342339e-02\n",
      "  7.71012102e-02 -2.79938007e-03  6.08704201e-02  8.27085819e-02\n",
      "  4.01079987e-02  1.22164446e-02  4.90111408e-02  1.81185231e-01\n",
      "  5.72731714e-02 -7.48911322e-03 -4.03361893e-02 -4.30131224e-04\n",
      "  3.32676913e-02  7.24489929e-02  1.04312914e-02  1.44020260e-03\n",
      " -1.70751670e-02  0.00000000e+00  5.69117077e-03 -1.75438933e-02\n",
      " -2.71578678e-02 -7.12566653e-03 -1.26970793e-01 -5.45150508e-02\n",
      "  5.15288749e-02 -8.76079762e-04  7.65163810e-03  9.88670210e-03\n",
      " -4.33266719e-02 -4.74613861e-02  5.27279477e-02 -6.00927840e-02\n",
      "  1.05449510e-02 -4.03282619e-02 -0.00000000e+00  3.02110416e-02\n",
      " -2.58696608e-03  9.72705366e-02 -0.00000000e+00 -1.08439478e-02\n",
      " -8.05392460e-03 -2.82054308e-02 -4.79513248e-02 -8.53745513e-02\n",
      "  0.00000000e+00  4.13017601e-02 -1.32683702e-02  7.47598512e-02\n",
      "  4.29318642e-03 -4.45466901e-02  8.62029311e-02  6.26287563e-02\n",
      "  6.45280064e-02 -4.50540665e-02  4.86399069e-02  2.68667074e-02\n",
      " -1.01189203e-02  2.55678660e-02  1.50411873e-02  5.94743167e-03\n",
      "  2.45497805e-02  4.18197492e-02  3.75863429e-02  1.05350785e-01\n",
      "  6.45827819e-02  8.16920678e-02  8.50396766e-02 -1.92542247e-02\n",
      " -3.84084998e-02  1.18160062e-01  1.01825789e-01  2.45545932e-02\n",
      "  5.25886285e-02  1.15784649e-02  1.22055403e-03  9.17429902e-03\n",
      "  1.19036314e-02  1.64724437e-02  1.35701623e-02  3.11118328e-02\n",
      "  8.30514230e-02  2.43230082e-02  6.87413774e-02  8.40801281e-03\n",
      " -1.89335613e-03 -2.18277179e-02  7.88095533e-02  4.11053130e-02\n",
      "  2.18727044e-02  1.17358428e-02 -5.38738308e-03  1.87305169e-02\n",
      "  2.24699570e-02  3.31072597e-02  1.69661089e-03 -4.62130160e-03\n",
      "  5.04998495e-03 -8.68897055e-03  1.68907133e-02  5.91045780e-02\n",
      " -7.87592543e-04  5.86171776e-02  4.09090917e-03  1.22948260e-01\n",
      "  1.93750677e-02  3.23713804e-02  1.33235522e-01 -0.00000000e+00\n",
      "  1.04567821e-04 -1.52113462e-02  2.39688365e-02  1.17479237e-01\n",
      "  1.60226689e-02 -3.45103379e-02  1.46060847e-02  3.13436287e-02\n",
      "  1.10006644e-01 -2.29315833e-02  1.60635679e-02 -2.33524240e-02\n",
      "  2.13945444e-02  5.73501143e-02  5.54829406e-02  1.90147288e-02\n",
      "  7.28260875e-02  5.60818827e-02  2.76391306e-02  2.42511949e-02\n",
      "  1.15196184e-02 -3.36649539e-02  5.10161063e-02 -8.89813950e-02\n",
      "  2.64829788e-02 -1.25957025e-02  4.62400475e-02 -3.97579749e-02\n",
      " -0.00000000e+00  7.90135047e-03  4.52666170e-02  5.78268289e-02\n",
      "  2.84180954e-02  8.85493041e-03 -3.37988175e-02  8.80560276e-03\n",
      "  5.99676159e-02  5.96939271e-02  3.44039817e-02  1.12371157e-02\n",
      " -8.01106811e-02  9.35775293e-02  5.93942119e-02  1.54218302e-02\n",
      "  2.84324048e-02  1.35352644e-02  1.19857160e-01  3.49082498e-02\n",
      "  1.61413198e-02 -2.68365149e-02  1.74494864e-02  4.60901761e-02\n",
      " -3.02599073e-02 -4.46047674e-02  1.73595678e-02 -2.36046871e-02\n",
      "  7.97216178e-03  4.48052587e-02  3.89272497e-02 -3.40282621e-02\n",
      "  1.97509694e-02 -7.30542845e-02  0.00000000e+00  4.74082231e-02\n",
      " -7.51778123e-03 -2.05099807e-03 -7.61479018e-03 -1.07341257e-01\n",
      "  1.23865483e-02  9.08048512e-03  2.03503967e-02 -1.88313074e-02\n",
      "  4.77047920e-03  3.84286106e-02  1.19681889e-02  5.90752754e-02\n",
      "  7.18757654e-03  3.60911593e-02  6.44898529e-02  5.95977797e-02\n",
      "  5.22282033e-02  4.88821127e-02  1.09551351e-02  2.82955014e-02\n",
      "  5.41002158e-02  1.17644956e-01  0.00000000e+00  4.00313384e-03\n",
      " -2.03658410e-02  1.64129324e-02]\n"
     ]
    }
   ],
   "source": [
    "from sklearn.linear_model import ElasticNet\n",
    "from sklearn.metrics import r2_score, mean_squared_error\n",
    "\n",
    "# Let's update the pipeline with ElasticNet regression model\n",
    "elastic_net_pipeline = Pipeline([\n",
    "    ('data_preprocessing', data_preprocessor),\n",
    "    ('elastic_net', ElasticNet(alpha = 0.001, l1_ratio = 0.1))\n",
    "])\n",
    "\n",
    "elastic_net_pipeline.fit(X_train[model_features], y_train.values)\n",
    "enRegressor_val_predictions = elastic_net_pipeline.predict(X_val[model_features])\n",
    "\n",
    "print(\"ElasticNet on Validation: Mean_squared_error: %f,  R_square_score: %f\" % \\\n",
    "      (mean_squared_error(y_val, enRegressor_val_predictions),r2_score(y_val, enRegressor_val_predictions)))\n",
    "\n",
    "print(\"ElasticNet model weights: \\n\", elastic_net_pipeline.named_steps['elastic_net'].coef_)"
   ]
  },
  {
   "cell_type": "code",
   "execution_count": 17,
   "metadata": {},
   "outputs": [
    {
     "name": "stdout",
     "output_type": "stream",
     "text": [
      "LinearRegression weights range: \n",
      " 3.8152951912361344e-05 1.7457724537196146\n",
      "Ridge weights range: \n",
      " 0.0002678024078845948 1.6264807870618432\n",
      "Lasso weights range: \n",
      " 0.0 1.7201052442656493\n",
      "ElasticNet weights range: \n",
      " 0.0 1.6870687401639743\n"
     ]
    }
   ],
   "source": [
    "import numpy as np\n",
    "\n",
    "lin_regression_coeffs = pipeline.named_steps['lr'].coef_\n",
    "ridge_regression_coeffs = ridge_pipeline.named_steps['ridge'].coef_\n",
    "lasso_regression_coeffs = lasso_pipeline.named_steps['lasso'].coef_\n",
    "enet_regression_coeffs = elastic_net_pipeline.named_steps['elastic_net'].coef_\n",
    "\n",
    "print('LinearRegression weights range: \\n', np.abs(lin_regression_coeffs).min(), np.abs(lin_regression_coeffs).max())\n",
    "print('Ridge weights range: \\n', np.abs(ridge_regression_coeffs).min(), np.abs(ridge_regression_coeffs).max())\n",
    "print('Lasso weights range: \\n', np.abs(lasso_regression_coeffs).min(), np.abs(lasso_regression_coeffs).max())\n",
    "print('ElasticNet weights range: \\n', np.abs(enet_regression_coeffs).min(), np.abs(enet_regression_coeffs).max())"
   ]
  },
  {
   "cell_type": "markdown",
   "metadata": {},
   "source": [
    "#### One way to improve the performance of a linear regression model is to try different strenghts of regularization, here controlled by the parameters $alpha$ and $\\textit{l1}_{ratio}$."
   ]
  },
  {
   "cell_type": "code",
   "execution_count": null,
   "metadata": {},
   "outputs": [],
   "source": []
  }
 ],
 "metadata": {
  "kernelspec": {
   "display_name": "Python 3",
   "language": "python",
   "name": "python3"
  },
  "language_info": {
   "codemirror_mode": {
    "name": "ipython",
    "version": 3
   },
   "file_extension": ".py",
   "mimetype": "text/x-python",
   "name": "python",
   "nbconvert_exporter": "python",
   "pygments_lexer": "ipython3",
   "version": "3.6.8"
  }
 },
 "nbformat": 4,
 "nbformat_minor": 4
}
