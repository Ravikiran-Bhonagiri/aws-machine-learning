{
  "nbformat": 4,
  "nbformat_minor": 0,
  "metadata": {
    "colab": {
      "name": "Machine_Learning_Accelerator_NLP_1_Bag_Of_Words_HandsOn.ipynb",
      "provenance": [],
      "collapsed_sections": []
    },
    "kernelspec": {
      "name": "python3",
      "display_name": "Python 3"
    }
  },
  "cells": [
    {
      "cell_type": "code",
      "metadata": {
        "id": "iS0Psi2QjY9r",
        "colab_type": "code",
        "colab": {}
      },
      "source": [
        "## Binary CountVectorizer\n",
        "\n",
        "from sklearn.feature_extraction.text import CountVectorizer\n",
        "\n",
        "sentences = [\"This document is the first document\",\n",
        "             \"This document is the second document\",\n",
        "             \"and this is the third one\"]\n",
        "\n",
        "# Initialize the count vectorizer with the parameter: binary=True\n",
        "binary_vectorizer = CountVectorizer(binary=True)\n",
        "\n",
        "# fit_transform() function fits the text data and gets the binary BoW vectors\n",
        "x = binary_vectorizer.fit_transform(sentences)"
      ],
      "execution_count": 2,
      "outputs": []
    },
    {
      "cell_type": "code",
      "metadata": {
        "id": "j1TLCQtRj9rk",
        "colab_type": "code",
        "colab": {
          "base_uri": "https://localhost:8080/",
          "height": 68
        },
        "outputId": "252231f9-57e9-455a-d8bf-6c1eca6b1405"
      },
      "source": [
        "x.toarray()"
      ],
      "execution_count": 3,
      "outputs": [
        {
          "output_type": "execute_result",
          "data": {
            "text/plain": [
              "array([[0, 1, 1, 1, 0, 0, 1, 0, 1],\n",
              "       [0, 1, 0, 1, 0, 1, 1, 0, 1],\n",
              "       [1, 0, 0, 1, 1, 0, 1, 1, 1]])"
            ]
          },
          "metadata": {
            "tags": []
          },
          "execution_count": 3
        }
      ]
    },
    {
      "cell_type": "code",
      "metadata": {
        "id": "A1HqwK8lkI-_",
        "colab_type": "code",
        "colab": {
          "base_uri": "https://localhost:8080/",
          "height": 170
        },
        "outputId": "9552b26c-be84-4a8f-d4df-14b07a954857"
      },
      "source": [
        "binary_vectorizer.vocabulary_\n"
      ],
      "execution_count": 4,
      "outputs": [
        {
          "output_type": "execute_result",
          "data": {
            "text/plain": [
              "{'and': 0,\n",
              " 'document': 1,\n",
              " 'first': 2,\n",
              " 'is': 3,\n",
              " 'one': 4,\n",
              " 'second': 5,\n",
              " 'the': 6,\n",
              " 'third': 7,\n",
              " 'this': 8}"
            ]
          },
          "metadata": {
            "tags": []
          },
          "execution_count": 4
        }
      ]
    },
    {
      "cell_type": "code",
      "metadata": {
        "id": "zqzXAUmWkRQo",
        "colab_type": "code",
        "colab": {
          "base_uri": "https://localhost:8080/",
          "height": 34
        },
        "outputId": "4baf26ee-0442-47a5-cc83-eee93ee85896"
      },
      "source": [
        "print(binary_vectorizer.get_feature_names())"
      ],
      "execution_count": 5,
      "outputs": [
        {
          "output_type": "stream",
          "text": [
            "['and', 'document', 'first', 'is', 'one', 'second', 'the', 'third', 'this']\n"
          ],
          "name": "stdout"
        }
      ]
    },
    {
      "cell_type": "code",
      "metadata": {
        "id": "8bNQiIv5kSHH",
        "colab_type": "code",
        "colab": {}
      },
      "source": [
        "new_sentence = [\"This is the new sentence\"]\n",
        "\n",
        "new_vectors = binary_vectorizer.transform(new_sentence)"
      ],
      "execution_count": 6,
      "outputs": []
    },
    {
      "cell_type": "code",
      "metadata": {
        "id": "XnMyqjqAkfs6",
        "colab_type": "code",
        "colab": {
          "base_uri": "https://localhost:8080/",
          "height": 34
        },
        "outputId": "44a5d853-9afb-47cb-d2fd-fc697d263726"
      },
      "source": [
        "new_vectors.toarray()"
      ],
      "execution_count": 7,
      "outputs": [
        {
          "output_type": "execute_result",
          "data": {
            "text/plain": [
              "array([[0, 0, 0, 1, 0, 0, 1, 0, 1]])"
            ]
          },
          "metadata": {
            "tags": []
          },
          "execution_count": 7
        }
      ]
    },
    {
      "cell_type": "code",
      "metadata": {
        "id": "RHfIutzzlGG9",
        "colab_type": "code",
        "colab": {
          "base_uri": "https://localhost:8080/",
          "height": 68
        },
        "outputId": "7395c583-584b-4cf6-d671-b5d9b5e4fb48"
      },
      "source": [
        "## CountVectorizer\n",
        "\n",
        "from sklearn.feature_extraction.text import CountVectorizer\n",
        "\n",
        "sentences = [\"This document is the first document\", \"This document is the second document\", \"and this is the third one\"]\n",
        "\n",
        "# Initialize the count vectorizer\n",
        "count_vectorizer = CountVectorizer()\n",
        "\n",
        "xc = count_vectorizer.fit_transform(sentences)\n",
        "\n",
        "xc.toarray()"
      ],
      "execution_count": 9,
      "outputs": [
        {
          "output_type": "execute_result",
          "data": {
            "text/plain": [
              "array([[0, 2, 1, 1, 0, 0, 1, 0, 1],\n",
              "       [0, 2, 0, 1, 0, 1, 1, 0, 1],\n",
              "       [1, 0, 0, 1, 1, 0, 1, 1, 1]])"
            ]
          },
          "metadata": {
            "tags": []
          },
          "execution_count": 9
        }
      ]
    },
    {
      "cell_type": "code",
      "metadata": {
        "id": "vFWcr6PGl-B3",
        "colab_type": "code",
        "colab": {
          "base_uri": "https://localhost:8080/",
          "height": 170
        },
        "outputId": "5e0fc435-71cb-450a-d1a3-9a467233fe0b"
      },
      "source": [
        "count_vectorizer.vocabulary_"
      ],
      "execution_count": 10,
      "outputs": [
        {
          "output_type": "execute_result",
          "data": {
            "text/plain": [
              "{'and': 0,\n",
              " 'document': 1,\n",
              " 'first': 2,\n",
              " 'is': 3,\n",
              " 'one': 4,\n",
              " 'second': 5,\n",
              " 'the': 6,\n",
              " 'third': 7,\n",
              " 'this': 8}"
            ]
          },
          "metadata": {
            "tags": []
          },
          "execution_count": 10
        }
      ]
    },
    {
      "cell_type": "code",
      "metadata": {
        "id": "4kkijbAIlkvu",
        "colab_type": "code",
        "colab": {
          "base_uri": "https://localhost:8080/",
          "height": 34
        },
        "outputId": "726fafc1-6280-4e8b-bff9-0f3c2ff9d132"
      },
      "source": [
        "new_sentence = [\"This is the new sentence\"]\n",
        "new_vectors = count_vectorizer.transform(new_sentence)\n",
        "new_vectors.toarray()"
      ],
      "execution_count": 12,
      "outputs": [
        {
          "output_type": "execute_result",
          "data": {
            "text/plain": [
              "array([[0, 0, 0, 1, 0, 0, 1, 0, 1]])"
            ]
          },
          "metadata": {
            "tags": []
          },
          "execution_count": 12
        }
      ]
    },
    {
      "cell_type": "code",
      "metadata": {
        "id": "t5fTxhqHmecy",
        "colab_type": "code",
        "colab": {
          "base_uri": "https://localhost:8080/",
          "height": 119
        },
        "outputId": "2b240455-2f9e-405d-f437-cc2ee2c164bc"
      },
      "source": [
        "## Term Frequency \n",
        "\n",
        "from sklearn.feature_extraction.text import TfidfVectorizer\n",
        "\n",
        "tf_vectorizer = TfidfVectorizer(use_idf=False)\n",
        "\n",
        "x = tf_vectorizer.fit_transform(sentences)\n",
        "\n",
        "x.toarray()"
      ],
      "execution_count": 13,
      "outputs": [
        {
          "output_type": "execute_result",
          "data": {
            "text/plain": [
              "array([[0.        , 0.70710678, 0.35355339, 0.35355339, 0.        ,\n",
              "        0.        , 0.35355339, 0.        , 0.35355339],\n",
              "       [0.        , 0.70710678, 0.        , 0.35355339, 0.        ,\n",
              "        0.35355339, 0.35355339, 0.        , 0.35355339],\n",
              "       [0.40824829, 0.        , 0.        , 0.40824829, 0.40824829,\n",
              "        0.        , 0.40824829, 0.40824829, 0.40824829]])"
            ]
          },
          "metadata": {
            "tags": []
          },
          "execution_count": 13
        }
      ]
    },
    {
      "cell_type": "code",
      "metadata": {
        "id": "uIpVwjoRmkP4",
        "colab_type": "code",
        "colab": {
          "base_uri": "https://localhost:8080/",
          "height": 170
        },
        "outputId": "be42b5d8-0d98-443a-92b7-c1335d623ff6"
      },
      "source": [
        "tf_vectorizer.vocabulary_"
      ],
      "execution_count": 14,
      "outputs": [
        {
          "output_type": "execute_result",
          "data": {
            "text/plain": [
              "{'and': 0,\n",
              " 'document': 1,\n",
              " 'first': 2,\n",
              " 'is': 3,\n",
              " 'one': 4,\n",
              " 'second': 5,\n",
              " 'the': 6,\n",
              " 'third': 7,\n",
              " 'this': 8}"
            ]
          },
          "metadata": {
            "tags": []
          },
          "execution_count": 14
        }
      ]
    },
    {
      "cell_type": "code",
      "metadata": {
        "id": "nHomMuhrm0Ox",
        "colab_type": "code",
        "colab": {
          "base_uri": "https://localhost:8080/",
          "height": 51
        },
        "outputId": "4f39ea54-27f0-4345-bfc3-7dc6f3f230e3"
      },
      "source": [
        "new_sentence = [\"This is the new sentence\"]\n",
        "new_vectors = tf_vectorizer.transform(new_sentence)\n",
        "new_vectors.toarray()"
      ],
      "execution_count": 15,
      "outputs": [
        {
          "output_type": "execute_result",
          "data": {
            "text/plain": [
              "array([[0.        , 0.        , 0.        , 0.57735027, 0.        ,\n",
              "        0.        , 0.57735027, 0.        , 0.57735027]])"
            ]
          },
          "metadata": {
            "tags": []
          },
          "execution_count": 15
        }
      ]
    },
    {
      "cell_type": "code",
      "metadata": {
        "id": "deZOksZBnAlG",
        "colab_type": "code",
        "colab": {
          "base_uri": "https://localhost:8080/",
          "height": 119
        },
        "outputId": "9c9285a0-781f-4f06-ec31-b52526fc0c76"
      },
      "source": [
        "## Term Frequency and Inverse Document Frequency\n",
        "\n",
        "from sklearn.feature_extraction.text import TfidfVectorizer\n",
        "\n",
        "tfidf_vectorizer = TfidfVectorizer(use_idf=True)\n",
        "\n",
        "sentences = [\"This document is the first document\",\n",
        "             \"This document is the second document\",\n",
        "             \"and this is the third one\"]\n",
        "\n",
        "xf = tfidf_vectorizer.fit_transform(sentences)\n",
        "\n",
        "xf.toarray()"
      ],
      "execution_count": 18,
      "outputs": [
        {
          "output_type": "execute_result",
          "data": {
            "text/plain": [
              "array([[0.        , 0.7284449 , 0.47890875, 0.28285122, 0.        ,\n",
              "        0.        , 0.28285122, 0.        , 0.28285122],\n",
              "       [0.        , 0.7284449 , 0.        , 0.28285122, 0.        ,\n",
              "        0.47890875, 0.28285122, 0.        , 0.28285122],\n",
              "       [0.49711994, 0.        , 0.        , 0.29360705, 0.49711994,\n",
              "        0.        , 0.29360705, 0.49711994, 0.29360705]])"
            ]
          },
          "metadata": {
            "tags": []
          },
          "execution_count": 18
        }
      ]
    },
    {
      "cell_type": "code",
      "metadata": {
        "id": "JX_OOyXUnMi6",
        "colab_type": "code",
        "colab": {
          "base_uri": "https://localhost:8080/",
          "height": 170
        },
        "outputId": "b402f13d-927e-4234-a186-bdcf9e1cf8a5"
      },
      "source": [
        "tfidf_vectorizer.vocabulary_"
      ],
      "execution_count": 19,
      "outputs": [
        {
          "output_type": "execute_result",
          "data": {
            "text/plain": [
              "{'and': 0,\n",
              " 'document': 1,\n",
              " 'first': 2,\n",
              " 'is': 3,\n",
              " 'one': 4,\n",
              " 'second': 5,\n",
              " 'the': 6,\n",
              " 'third': 7,\n",
              " 'this': 8}"
            ]
          },
          "metadata": {
            "tags": []
          },
          "execution_count": 19
        }
      ]
    },
    {
      "cell_type": "code",
      "metadata": {
        "id": "y9b3ixzvnVLM",
        "colab_type": "code",
        "colab": {
          "base_uri": "https://localhost:8080/",
          "height": 51
        },
        "outputId": "b413699c-771a-45db-a6fa-b26a8008398d"
      },
      "source": [
        "##  regarding idf_ tag The inverse document frequency (IDF) vector; only defined if use_idf is True.\n",
        "\n",
        "tfidf_vectorizer.idf_"
      ],
      "execution_count": 20,
      "outputs": [
        {
          "output_type": "execute_result",
          "data": {
            "text/plain": [
              "array([1.69314718, 1.28768207, 1.69314718, 1.        , 1.69314718,\n",
              "       1.69314718, 1.        , 1.69314718, 1.        ])"
            ]
          },
          "metadata": {
            "tags": []
          },
          "execution_count": 20
        }
      ]
    }
  ]
}